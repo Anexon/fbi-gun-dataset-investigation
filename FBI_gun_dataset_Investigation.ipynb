{
 "cells": [
  {
   "cell_type": "markdown",
   "metadata": {},
   "source": [
    "# Project: Investigate a FBI Gun Dataset\n",
    "\n",
    "## Table of Contents\n",
    "<ul>\n",
    "<li><a href=\"#intro\">Introduction</a></li>\n",
    "<li><a href=\"#wrangling\">Data Wrangling</a></li>\n",
    "<li><a href=\"#eda\">Exploratory Data Analysis</a></li>\n",
    "<li><a href=\"#conclusions\">Conclusions</a></li>\n",
    "</ul>"
   ]
  },
  {
   "cell_type": "markdown",
   "metadata": {},
   "source": [
    "<a id='intro'></a>\n",
    "## Introduction\n",
    "\n",
    "In this document we explore two data sets; Guns Transanctions and Census Information that can be visited here:\n",
    "[Guns Transactions Dataset](https://github.com/BuzzFeedNews/nics-firearm-background-checks/blob/master/README.md)\n",
    "[Census Information](https://d17h27t6h515a5.cloudfront.net/topher/2017/November/5a0a554c_u.s.-census-data/u.s.-census-data.csv)\n",
    "\n",
    "Guns Transactions contains a historic series of the number of transactions type by weapon type and State. This data-set includes a data structure like this (per state and month):\n",
    "* Permits\n",
    "* Permits Recheck\n",
    "* Handgun Transactions\n",
    "* Longgun Transactions\n",
    "* Other Type of Gun Transactions\n",
    "* Multiple Type of Gun Trasactions\n",
    "And a detail for each gun type and transaction type: prepawn, rental, priavate sale, return to seller, etc..\n",
    "\n",
    "The census data source warns that gun transaction can't be interpreted as gun sales. However it suggets a [National Survey](https://github.com/nytimes/gunsales#getting-gun-sales-estimates-from-background-checks) that leads into a correlation between handgun, longgun and multiple transactions and estimated sales. This is:\n",
    "* 1 gun sale can be estimated per 1,1 hamdgun, longgun or other gun transaction.\n",
    "* 2 guns sale can be estimated per 1 multiple gun transaction.\n",
    "So this is going to be considered in order to have a somehow gun sales estimation.\n",
    "\n",
    "On the other hand, census data-set includes a big amount of features related to the population of each state. In this case, the data-set is less consistent and a full history can't be obtained from it, so we will work a single date frame.\n",
    "\n",
    "Some of the containing data of this dataset is related to racial information and it is not going to be considered as a feature in order to avoid racial bias that may induce to racism or wrong conclusions.\n",
    "\n",
    "By combining both dataset we may inspect if some census data is related to a major gun purchases such as: rental per capita, poverty ratio, level of studies o aged population.\n",
    "Also, we may identifiy states that present highest gun sales growth and which has bought most guns in last years."
   ]
  },
  {
   "cell_type": "markdown",
   "metadata": {},
   "source": [
    "<a id='wrangling'></a>\n",
    "## Data Wrangling\n",
    "\n",
    "\n",
    "### General Properties\n",
    "Firstly we will load our data sources."
   ]
  },
  {
   "cell_type": "code",
   "execution_count": 1,
   "metadata": {},
   "outputs": [],
   "source": [
    "import pandas as pd\n",
    "import numpy as np\n",
    "import matplotlib.pyplot as plt\n",
    "\n",
    "%matplotlib inline\n",
    "\n",
    "census_data = pd.read_csv(\"us_census_data.csv\")\n",
    "gun_data = pd.read_excel(\"gun_data.xlsx\")"
   ]
  },
  {
   "cell_type": "markdown",
   "metadata": {},
   "source": [
    "### Gun Data"
   ]
  },
  {
   "cell_type": "code",
   "execution_count": 2,
   "metadata": {
    "scrolled": false
   },
   "outputs": [
    {
     "data": {
      "text/html": [
       "<div>\n",
       "<style scoped>\n",
       "    .dataframe tbody tr th:only-of-type {\n",
       "        vertical-align: middle;\n",
       "    }\n",
       "\n",
       "    .dataframe tbody tr th {\n",
       "        vertical-align: top;\n",
       "    }\n",
       "\n",
       "    .dataframe thead th {\n",
       "        text-align: right;\n",
       "    }\n",
       "</style>\n",
       "<table border=\"1\" class=\"dataframe\">\n",
       "  <thead>\n",
       "    <tr style=\"text-align: right;\">\n",
       "      <th></th>\n",
       "      <th>month</th>\n",
       "      <th>state</th>\n",
       "      <th>permit</th>\n",
       "      <th>permit_recheck</th>\n",
       "      <th>handgun</th>\n",
       "      <th>long_gun</th>\n",
       "      <th>other</th>\n",
       "      <th>multiple</th>\n",
       "      <th>admin</th>\n",
       "      <th>prepawn_handgun</th>\n",
       "      <th>...</th>\n",
       "      <th>returned_other</th>\n",
       "      <th>rentals_handgun</th>\n",
       "      <th>rentals_long_gun</th>\n",
       "      <th>private_sale_handgun</th>\n",
       "      <th>private_sale_long_gun</th>\n",
       "      <th>private_sale_other</th>\n",
       "      <th>return_to_seller_handgun</th>\n",
       "      <th>return_to_seller_long_gun</th>\n",
       "      <th>return_to_seller_other</th>\n",
       "      <th>totals</th>\n",
       "    </tr>\n",
       "  </thead>\n",
       "  <tbody>\n",
       "    <tr>\n",
       "      <th>0</th>\n",
       "      <td>2017-09</td>\n",
       "      <td>Alabama</td>\n",
       "      <td>16717.0</td>\n",
       "      <td>0.0</td>\n",
       "      <td>5734.0</td>\n",
       "      <td>6320.0</td>\n",
       "      <td>221.0</td>\n",
       "      <td>317</td>\n",
       "      <td>0.0</td>\n",
       "      <td>15.0</td>\n",
       "      <td>...</td>\n",
       "      <td>0.0</td>\n",
       "      <td>0.0</td>\n",
       "      <td>0.0</td>\n",
       "      <td>9.0</td>\n",
       "      <td>16.0</td>\n",
       "      <td>3.0</td>\n",
       "      <td>0.0</td>\n",
       "      <td>0.0</td>\n",
       "      <td>3.0</td>\n",
       "      <td>32019</td>\n",
       "    </tr>\n",
       "    <tr>\n",
       "      <th>1</th>\n",
       "      <td>2017-09</td>\n",
       "      <td>Alaska</td>\n",
       "      <td>209.0</td>\n",
       "      <td>2.0</td>\n",
       "      <td>2320.0</td>\n",
       "      <td>2930.0</td>\n",
       "      <td>219.0</td>\n",
       "      <td>160</td>\n",
       "      <td>0.0</td>\n",
       "      <td>5.0</td>\n",
       "      <td>...</td>\n",
       "      <td>0.0</td>\n",
       "      <td>0.0</td>\n",
       "      <td>0.0</td>\n",
       "      <td>17.0</td>\n",
       "      <td>24.0</td>\n",
       "      <td>1.0</td>\n",
       "      <td>0.0</td>\n",
       "      <td>0.0</td>\n",
       "      <td>0.0</td>\n",
       "      <td>6303</td>\n",
       "    </tr>\n",
       "    <tr>\n",
       "      <th>2</th>\n",
       "      <td>2017-09</td>\n",
       "      <td>Arizona</td>\n",
       "      <td>5069.0</td>\n",
       "      <td>382.0</td>\n",
       "      <td>11063.0</td>\n",
       "      <td>7946.0</td>\n",
       "      <td>920.0</td>\n",
       "      <td>631</td>\n",
       "      <td>0.0</td>\n",
       "      <td>13.0</td>\n",
       "      <td>...</td>\n",
       "      <td>0.0</td>\n",
       "      <td>0.0</td>\n",
       "      <td>0.0</td>\n",
       "      <td>38.0</td>\n",
       "      <td>12.0</td>\n",
       "      <td>2.0</td>\n",
       "      <td>0.0</td>\n",
       "      <td>0.0</td>\n",
       "      <td>0.0</td>\n",
       "      <td>28394</td>\n",
       "    </tr>\n",
       "    <tr>\n",
       "      <th>3</th>\n",
       "      <td>2017-09</td>\n",
       "      <td>Arkansas</td>\n",
       "      <td>2935.0</td>\n",
       "      <td>632.0</td>\n",
       "      <td>4347.0</td>\n",
       "      <td>6063.0</td>\n",
       "      <td>165.0</td>\n",
       "      <td>366</td>\n",
       "      <td>51.0</td>\n",
       "      <td>12.0</td>\n",
       "      <td>...</td>\n",
       "      <td>0.0</td>\n",
       "      <td>0.0</td>\n",
       "      <td>0.0</td>\n",
       "      <td>13.0</td>\n",
       "      <td>23.0</td>\n",
       "      <td>0.0</td>\n",
       "      <td>0.0</td>\n",
       "      <td>2.0</td>\n",
       "      <td>1.0</td>\n",
       "      <td>17747</td>\n",
       "    </tr>\n",
       "    <tr>\n",
       "      <th>4</th>\n",
       "      <td>2017-09</td>\n",
       "      <td>California</td>\n",
       "      <td>57839.0</td>\n",
       "      <td>0.0</td>\n",
       "      <td>37165.0</td>\n",
       "      <td>24581.0</td>\n",
       "      <td>2984.0</td>\n",
       "      <td>0</td>\n",
       "      <td>0.0</td>\n",
       "      <td>0.0</td>\n",
       "      <td>...</td>\n",
       "      <td>0.0</td>\n",
       "      <td>0.0</td>\n",
       "      <td>0.0</td>\n",
       "      <td>0.0</td>\n",
       "      <td>0.0</td>\n",
       "      <td>0.0</td>\n",
       "      <td>0.0</td>\n",
       "      <td>0.0</td>\n",
       "      <td>0.0</td>\n",
       "      <td>123506</td>\n",
       "    </tr>\n",
       "  </tbody>\n",
       "</table>\n",
       "<p>5 rows × 27 columns</p>\n",
       "</div>"
      ],
      "text/plain": [
       "     month       state   permit  permit_recheck  handgun  long_gun   other  \\\n",
       "0  2017-09     Alabama  16717.0             0.0   5734.0    6320.0   221.0   \n",
       "1  2017-09      Alaska    209.0             2.0   2320.0    2930.0   219.0   \n",
       "2  2017-09     Arizona   5069.0           382.0  11063.0    7946.0   920.0   \n",
       "3  2017-09    Arkansas   2935.0           632.0   4347.0    6063.0   165.0   \n",
       "4  2017-09  California  57839.0             0.0  37165.0   24581.0  2984.0   \n",
       "\n",
       "   multiple  admin  prepawn_handgun  ...  returned_other  rentals_handgun  \\\n",
       "0       317    0.0             15.0  ...             0.0              0.0   \n",
       "1       160    0.0              5.0  ...             0.0              0.0   \n",
       "2       631    0.0             13.0  ...             0.0              0.0   \n",
       "3       366   51.0             12.0  ...             0.0              0.0   \n",
       "4         0    0.0              0.0  ...             0.0              0.0   \n",
       "\n",
       "   rentals_long_gun  private_sale_handgun  private_sale_long_gun  \\\n",
       "0               0.0                   9.0                   16.0   \n",
       "1               0.0                  17.0                   24.0   \n",
       "2               0.0                  38.0                   12.0   \n",
       "3               0.0                  13.0                   23.0   \n",
       "4               0.0                   0.0                    0.0   \n",
       "\n",
       "   private_sale_other  return_to_seller_handgun  return_to_seller_long_gun  \\\n",
       "0                 3.0                       0.0                        0.0   \n",
       "1                 1.0                       0.0                        0.0   \n",
       "2                 2.0                       0.0                        0.0   \n",
       "3                 0.0                       0.0                        2.0   \n",
       "4                 0.0                       0.0                        0.0   \n",
       "\n",
       "   return_to_seller_other  totals  \n",
       "0                     3.0   32019  \n",
       "1                     0.0    6303  \n",
       "2                     0.0   28394  \n",
       "3                     1.0   17747  \n",
       "4                     0.0  123506  \n",
       "\n",
       "[5 rows x 27 columns]"
      ]
     },
     "execution_count": 2,
     "metadata": {},
     "output_type": "execute_result"
    }
   ],
   "source": [
    "gun_data.head()"
   ]
  },
  {
   "cell_type": "code",
   "execution_count": 3,
   "metadata": {
    "scrolled": false
   },
   "outputs": [
    {
     "name": "stdout",
     "output_type": "stream",
     "text": [
      "<class 'pandas.core.frame.DataFrame'>\n",
      "RangeIndex: 12485 entries, 0 to 12484\n",
      "Data columns (total 27 columns):\n",
      " #   Column                     Non-Null Count  Dtype  \n",
      "---  ------                     --------------  -----  \n",
      " 0   month                      12485 non-null  object \n",
      " 1   state                      12485 non-null  object \n",
      " 2   permit                     12461 non-null  float64\n",
      " 3   permit_recheck             1100 non-null   float64\n",
      " 4   handgun                    12465 non-null  float64\n",
      " 5   long_gun                   12466 non-null  float64\n",
      " 6   other                      5500 non-null   float64\n",
      " 7   multiple                   12485 non-null  int64  \n",
      " 8   admin                      12462 non-null  float64\n",
      " 9   prepawn_handgun            10542 non-null  float64\n",
      " 10  prepawn_long_gun           10540 non-null  float64\n",
      " 11  prepawn_other              5115 non-null   float64\n",
      " 12  redemption_handgun         10545 non-null  float64\n",
      " 13  redemption_long_gun        10544 non-null  float64\n",
      " 14  redemption_other           5115 non-null   float64\n",
      " 15  returned_handgun           2200 non-null   float64\n",
      " 16  returned_long_gun          2145 non-null   float64\n",
      " 17  returned_other             1815 non-null   float64\n",
      " 18  rentals_handgun            990 non-null    float64\n",
      " 19  rentals_long_gun           825 non-null    float64\n",
      " 20  private_sale_handgun       2750 non-null   float64\n",
      " 21  private_sale_long_gun      2750 non-null   float64\n",
      " 22  private_sale_other         2750 non-null   float64\n",
      " 23  return_to_seller_handgun   2475 non-null   float64\n",
      " 24  return_to_seller_long_gun  2750 non-null   float64\n",
      " 25  return_to_seller_other     2255 non-null   float64\n",
      " 26  totals                     12485 non-null  int64  \n",
      "dtypes: float64(23), int64(2), object(2)\n",
      "memory usage: 2.6+ MB\n"
     ]
    }
   ],
   "source": [
    "gun_data.info()"
   ]
  },
  {
   "cell_type": "code",
   "execution_count": 4,
   "metadata": {},
   "outputs": [
    {
     "data": {
      "text/plain": [
       "0"
      ]
     },
     "execution_count": 4,
     "metadata": {},
     "output_type": "execute_result"
    }
   ],
   "source": [
    "gun_data.duplicated().sum()"
   ]
  },
  {
   "cell_type": "markdown",
   "metadata": {},
   "source": [
    "Seems that columns <b>*multiple*</b> and <b>*totals*</b> has *int* values. In order to use same format for numbers we are going to change data type of those columns to *float*.\n",
    "\n",
    "In the same way, <b>*month*</b> column has *string* type while we may need to operate with dates so we will have to change data type to *datetime*."
   ]
  },
  {
   "cell_type": "markdown",
   "metadata": {},
   "source": [
    "Also, it seems that there are quite a lot of null values, so we will have to have a look into the data to consider what solution we should take."
   ]
  },
  {
   "cell_type": "code",
   "execution_count": 5,
   "metadata": {},
   "outputs": [
    {
     "data": {
      "text/plain": [
       "month                            0\n",
       "state                            0\n",
       "permit                          24\n",
       "permit_recheck               11385\n",
       "handgun                         20\n",
       "long_gun                        19\n",
       "other                         6985\n",
       "multiple                         0\n",
       "admin                           23\n",
       "prepawn_handgun               1943\n",
       "prepawn_long_gun              1945\n",
       "prepawn_other                 7370\n",
       "redemption_handgun            1940\n",
       "redemption_long_gun           1941\n",
       "redemption_other              7370\n",
       "returned_handgun             10285\n",
       "returned_long_gun            10340\n",
       "returned_other               10670\n",
       "rentals_handgun              11495\n",
       "rentals_long_gun             11660\n",
       "private_sale_handgun          9735\n",
       "private_sale_long_gun         9735\n",
       "private_sale_other            9735\n",
       "return_to_seller_handgun     10010\n",
       "return_to_seller_long_gun     9735\n",
       "return_to_seller_other       10230\n",
       "totals                           0\n",
       "dtype: int64"
      ]
     },
     "execution_count": 5,
     "metadata": {},
     "output_type": "execute_result"
    }
   ],
   "source": [
    "gun_data.isna().sum()"
   ]
  },
  {
   "cell_type": "markdown",
   "metadata": {},
   "source": [
    "Some columns appear to be almost completly empty as the dataset size is of 12480 rows. These columns seems to be those related to *prepawns, redeptions, returns, private sales* and *returns to seller transactions*. However, columns as *permit_recheck* and others seems to have quite a lot of *null* values aswell.\n",
    "\n",
    "This makes very dificult to consider using an average or any other method as the database is almost empty. However, checking the [original data source](chrome-extension://oemmndcbldboiebfnladdacbdfmadadm/https://www.fbi.gov/file-repository/nics_firearm_checks_-_month_year_by_state_type.pdf) none value is empty.\n",
    "\n",
    "Surprisingly, *totals* column has no empty values so we may check if totals values fits the sum of the row, that will let us considering empty values as zero."
   ]
  },
  {
   "cell_type": "code",
   "execution_count": 6,
   "metadata": {
    "scrolled": true
   },
   "outputs": [
    {
     "data": {
      "text/plain": [
       "True"
      ]
     },
     "execution_count": 6,
     "metadata": {},
     "output_type": "execute_result"
    }
   ],
   "source": [
    "(gun_data.loc[:,\"permit\":\"return_to_seller_other\"].sum(axis=1) == gun_data.loc[:,\"totals\"]).all()"
   ]
  },
  {
   "cell_type": "markdown",
   "metadata": {},
   "source": [
    "### Census Data\n",
    "Now, we will check the census dataset"
   ]
  },
  {
   "cell_type": "code",
   "execution_count": 7,
   "metadata": {
    "scrolled": true
   },
   "outputs": [
    {
     "data": {
      "text/html": [
       "<div>\n",
       "<style scoped>\n",
       "    .dataframe tbody tr th:only-of-type {\n",
       "        vertical-align: middle;\n",
       "    }\n",
       "\n",
       "    .dataframe tbody tr th {\n",
       "        vertical-align: top;\n",
       "    }\n",
       "\n",
       "    .dataframe thead th {\n",
       "        text-align: right;\n",
       "    }\n",
       "</style>\n",
       "<table border=\"1\" class=\"dataframe\">\n",
       "  <thead>\n",
       "    <tr style=\"text-align: right;\">\n",
       "      <th></th>\n",
       "      <th>Fact</th>\n",
       "      <th>Fact Note</th>\n",
       "      <th>Alabama</th>\n",
       "      <th>Alaska</th>\n",
       "      <th>Arizona</th>\n",
       "      <th>Arkansas</th>\n",
       "      <th>California</th>\n",
       "      <th>Colorado</th>\n",
       "      <th>Connecticut</th>\n",
       "      <th>Delaware</th>\n",
       "      <th>...</th>\n",
       "      <th>South Dakota</th>\n",
       "      <th>Tennessee</th>\n",
       "      <th>Texas</th>\n",
       "      <th>Utah</th>\n",
       "      <th>Vermont</th>\n",
       "      <th>Virginia</th>\n",
       "      <th>Washington</th>\n",
       "      <th>West Virginia</th>\n",
       "      <th>Wisconsin</th>\n",
       "      <th>Wyoming</th>\n",
       "    </tr>\n",
       "  </thead>\n",
       "  <tbody>\n",
       "    <tr>\n",
       "      <th>0</th>\n",
       "      <td>Population estimates, July 1, 2016,  (V2016)</td>\n",
       "      <td>NaN</td>\n",
       "      <td>4,863,300</td>\n",
       "      <td>741,894</td>\n",
       "      <td>6,931,071</td>\n",
       "      <td>2,988,248</td>\n",
       "      <td>39,250,017</td>\n",
       "      <td>5,540,545</td>\n",
       "      <td>3,576,452</td>\n",
       "      <td>952,065</td>\n",
       "      <td>...</td>\n",
       "      <td>865454</td>\n",
       "      <td>6651194</td>\n",
       "      <td>27,862,596</td>\n",
       "      <td>3,051,217</td>\n",
       "      <td>624,594</td>\n",
       "      <td>8,411,808</td>\n",
       "      <td>7,288,000</td>\n",
       "      <td>1,831,102</td>\n",
       "      <td>5,778,708</td>\n",
       "      <td>585,501</td>\n",
       "    </tr>\n",
       "    <tr>\n",
       "      <th>1</th>\n",
       "      <td>Population estimates base, April 1, 2010,  (V2...</td>\n",
       "      <td>NaN</td>\n",
       "      <td>4,780,131</td>\n",
       "      <td>710,249</td>\n",
       "      <td>6,392,301</td>\n",
       "      <td>2,916,025</td>\n",
       "      <td>37,254,522</td>\n",
       "      <td>5,029,324</td>\n",
       "      <td>3,574,114</td>\n",
       "      <td>897,936</td>\n",
       "      <td>...</td>\n",
       "      <td>814195</td>\n",
       "      <td>6346298</td>\n",
       "      <td>25,146,100</td>\n",
       "      <td>2,763,888</td>\n",
       "      <td>625,741</td>\n",
       "      <td>8,001,041</td>\n",
       "      <td>6,724,545</td>\n",
       "      <td>1,853,011</td>\n",
       "      <td>5,687,289</td>\n",
       "      <td>563,767</td>\n",
       "    </tr>\n",
       "    <tr>\n",
       "      <th>2</th>\n",
       "      <td>Population, percent change - April 1, 2010 (es...</td>\n",
       "      <td>NaN</td>\n",
       "      <td>1.70%</td>\n",
       "      <td>4.50%</td>\n",
       "      <td>8.40%</td>\n",
       "      <td>2.50%</td>\n",
       "      <td>5.40%</td>\n",
       "      <td>10.20%</td>\n",
       "      <td>0.10%</td>\n",
       "      <td>6.00%</td>\n",
       "      <td>...</td>\n",
       "      <td>0.063</td>\n",
       "      <td>0.048</td>\n",
       "      <td>10.80%</td>\n",
       "      <td>10.40%</td>\n",
       "      <td>-0.20%</td>\n",
       "      <td>5.10%</td>\n",
       "      <td>8.40%</td>\n",
       "      <td>-1.20%</td>\n",
       "      <td>1.60%</td>\n",
       "      <td>3.90%</td>\n",
       "    </tr>\n",
       "    <tr>\n",
       "      <th>3</th>\n",
       "      <td>Population, Census, April 1, 2010</td>\n",
       "      <td>NaN</td>\n",
       "      <td>4,779,736</td>\n",
       "      <td>710,231</td>\n",
       "      <td>6,392,017</td>\n",
       "      <td>2,915,918</td>\n",
       "      <td>37,253,956</td>\n",
       "      <td>5,029,196</td>\n",
       "      <td>3,574,097</td>\n",
       "      <td>897,934</td>\n",
       "      <td>...</td>\n",
       "      <td>814180</td>\n",
       "      <td>6346105</td>\n",
       "      <td>25,145,561</td>\n",
       "      <td>2,763,885</td>\n",
       "      <td>625,741</td>\n",
       "      <td>8,001,024</td>\n",
       "      <td>6,724,540</td>\n",
       "      <td>1,852,994</td>\n",
       "      <td>5,686,986</td>\n",
       "      <td>563,626</td>\n",
       "    </tr>\n",
       "    <tr>\n",
       "      <th>4</th>\n",
       "      <td>Persons under 5 years, percent, July 1, 2016, ...</td>\n",
       "      <td>NaN</td>\n",
       "      <td>6.00%</td>\n",
       "      <td>7.30%</td>\n",
       "      <td>6.30%</td>\n",
       "      <td>6.40%</td>\n",
       "      <td>6.30%</td>\n",
       "      <td>6.10%</td>\n",
       "      <td>5.20%</td>\n",
       "      <td>5.80%</td>\n",
       "      <td>...</td>\n",
       "      <td>0.071</td>\n",
       "      <td>0.061</td>\n",
       "      <td>7.20%</td>\n",
       "      <td>8.30%</td>\n",
       "      <td>4.90%</td>\n",
       "      <td>6.10%</td>\n",
       "      <td>6.20%</td>\n",
       "      <td>5.50%</td>\n",
       "      <td>5.80%</td>\n",
       "      <td>6.50%</td>\n",
       "    </tr>\n",
       "  </tbody>\n",
       "</table>\n",
       "<p>5 rows × 52 columns</p>\n",
       "</div>"
      ],
      "text/plain": [
       "                                                Fact Fact Note    Alabama  \\\n",
       "0       Population estimates, July 1, 2016,  (V2016)       NaN  4,863,300   \n",
       "1  Population estimates base, April 1, 2010,  (V2...       NaN  4,780,131   \n",
       "2  Population, percent change - April 1, 2010 (es...       NaN      1.70%   \n",
       "3                  Population, Census, April 1, 2010       NaN  4,779,736   \n",
       "4  Persons under 5 years, percent, July 1, 2016, ...       NaN      6.00%   \n",
       "\n",
       "    Alaska    Arizona   Arkansas  California   Colorado Connecticut Delaware  \\\n",
       "0  741,894  6,931,071  2,988,248  39,250,017  5,540,545   3,576,452  952,065   \n",
       "1  710,249  6,392,301  2,916,025  37,254,522  5,029,324   3,574,114  897,936   \n",
       "2    4.50%      8.40%      2.50%       5.40%     10.20%       0.10%    6.00%   \n",
       "3  710,231  6,392,017  2,915,918  37,253,956  5,029,196   3,574,097  897,934   \n",
       "4    7.30%      6.30%      6.40%       6.30%      6.10%       5.20%    5.80%   \n",
       "\n",
       "   ... South Dakota Tennessee       Texas       Utah  Vermont   Virginia  \\\n",
       "0  ...       865454   6651194  27,862,596  3,051,217  624,594  8,411,808   \n",
       "1  ...       814195   6346298  25,146,100  2,763,888  625,741  8,001,041   \n",
       "2  ...        0.063     0.048      10.80%     10.40%   -0.20%      5.10%   \n",
       "3  ...       814180   6346105  25,145,561  2,763,885  625,741  8,001,024   \n",
       "4  ...        0.071     0.061       7.20%      8.30%    4.90%      6.10%   \n",
       "\n",
       "  Washington West Virginia  Wisconsin  Wyoming  \n",
       "0  7,288,000     1,831,102  5,778,708  585,501  \n",
       "1  6,724,545     1,853,011  5,687,289  563,767  \n",
       "2      8.40%        -1.20%      1.60%    3.90%  \n",
       "3  6,724,540     1,852,994  5,686,986  563,626  \n",
       "4      6.20%         5.50%      5.80%    6.50%  \n",
       "\n",
       "[5 rows x 52 columns]"
      ]
     },
     "execution_count": 7,
     "metadata": {},
     "output_type": "execute_result"
    }
   ],
   "source": [
    "census_data.head()"
   ]
  },
  {
   "cell_type": "code",
   "execution_count": 8,
   "metadata": {
    "scrolled": true
   },
   "outputs": [
    {
     "name": "stdout",
     "output_type": "stream",
     "text": [
      "<class 'pandas.core.frame.DataFrame'>\n",
      "RangeIndex: 85 entries, 0 to 84\n",
      "Data columns (total 52 columns):\n",
      " #   Column          Non-Null Count  Dtype \n",
      "---  ------          --------------  ----- \n",
      " 0   Fact            80 non-null     object\n",
      " 1   Fact Note       28 non-null     object\n",
      " 2   Alabama         65 non-null     object\n",
      " 3   Alaska          65 non-null     object\n",
      " 4   Arizona         65 non-null     object\n",
      " 5   Arkansas        65 non-null     object\n",
      " 6   California      65 non-null     object\n",
      " 7   Colorado        65 non-null     object\n",
      " 8   Connecticut     65 non-null     object\n",
      " 9   Delaware        65 non-null     object\n",
      " 10  Florida         65 non-null     object\n",
      " 11  Georgia         65 non-null     object\n",
      " 12  Hawaii          65 non-null     object\n",
      " 13  Idaho           65 non-null     object\n",
      " 14  Illinois        65 non-null     object\n",
      " 15  Indiana         65 non-null     object\n",
      " 16  Iowa            65 non-null     object\n",
      " 17  Kansas          65 non-null     object\n",
      " 18  Kentucky        65 non-null     object\n",
      " 19  Louisiana       65 non-null     object\n",
      " 20  Maine           65 non-null     object\n",
      " 21  Maryland        65 non-null     object\n",
      " 22  Massachusetts   65 non-null     object\n",
      " 23  Michigan        65 non-null     object\n",
      " 24  Minnesota       65 non-null     object\n",
      " 25  Mississippi     65 non-null     object\n",
      " 26  Missouri        65 non-null     object\n",
      " 27  Montana         65 non-null     object\n",
      " 28  Nebraska        65 non-null     object\n",
      " 29  Nevada          65 non-null     object\n",
      " 30  New Hampshire   65 non-null     object\n",
      " 31  New Jersey      65 non-null     object\n",
      " 32  New Mexico      65 non-null     object\n",
      " 33  New York        65 non-null     object\n",
      " 34  North Carolina  65 non-null     object\n",
      " 35  North Dakota    65 non-null     object\n",
      " 36  Ohio            65 non-null     object\n",
      " 37  Oklahoma        65 non-null     object\n",
      " 38  Oregon          65 non-null     object\n",
      " 39  Pennsylvania    65 non-null     object\n",
      " 40  Rhode Island    65 non-null     object\n",
      " 41  South Carolina  65 non-null     object\n",
      " 42  South Dakota    65 non-null     object\n",
      " 43  Tennessee       65 non-null     object\n",
      " 44  Texas           65 non-null     object\n",
      " 45  Utah            65 non-null     object\n",
      " 46  Vermont         65 non-null     object\n",
      " 47  Virginia        65 non-null     object\n",
      " 48  Washington      65 non-null     object\n",
      " 49  West Virginia   65 non-null     object\n",
      " 50  Wisconsin       65 non-null     object\n",
      " 51  Wyoming         65 non-null     object\n",
      "dtypes: object(52)\n",
      "memory usage: 34.7+ KB\n"
     ]
    }
   ],
   "source": [
    "census_data.info()"
   ]
  },
  {
   "cell_type": "code",
   "execution_count": 9,
   "metadata": {
    "scrolled": true
   },
   "outputs": [
    {
     "data": {
      "text/plain": [
       "3"
      ]
     },
     "execution_count": 9,
     "metadata": {},
     "output_type": "execute_result"
    }
   ],
   "source": [
    "census_data.duplicated().sum()"
   ]
  },
  {
   "cell_type": "code",
   "execution_count": 10,
   "metadata": {
    "scrolled": true
   },
   "outputs": [
    {
     "data": {
      "text/html": [
       "<div>\n",
       "<style scoped>\n",
       "    .dataframe tbody tr th:only-of-type {\n",
       "        vertical-align: middle;\n",
       "    }\n",
       "\n",
       "    .dataframe tbody tr th {\n",
       "        vertical-align: top;\n",
       "    }\n",
       "\n",
       "    .dataframe thead th {\n",
       "        text-align: right;\n",
       "    }\n",
       "</style>\n",
       "<table border=\"1\" class=\"dataframe\">\n",
       "  <thead>\n",
       "    <tr style=\"text-align: right;\">\n",
       "      <th></th>\n",
       "      <th>Fact</th>\n",
       "      <th>Fact Note</th>\n",
       "      <th>Alabama</th>\n",
       "      <th>Alaska</th>\n",
       "      <th>Arizona</th>\n",
       "      <th>Arkansas</th>\n",
       "      <th>California</th>\n",
       "      <th>Colorado</th>\n",
       "      <th>Connecticut</th>\n",
       "      <th>Delaware</th>\n",
       "      <th>...</th>\n",
       "      <th>South Dakota</th>\n",
       "      <th>Tennessee</th>\n",
       "      <th>Texas</th>\n",
       "      <th>Utah</th>\n",
       "      <th>Vermont</th>\n",
       "      <th>Virginia</th>\n",
       "      <th>Washington</th>\n",
       "      <th>West Virginia</th>\n",
       "      <th>Wisconsin</th>\n",
       "      <th>Wyoming</th>\n",
       "    </tr>\n",
       "  </thead>\n",
       "  <tbody>\n",
       "    <tr>\n",
       "      <th>67</th>\n",
       "      <td>NaN</td>\n",
       "      <td>NaN</td>\n",
       "      <td>NaN</td>\n",
       "      <td>NaN</td>\n",
       "      <td>NaN</td>\n",
       "      <td>NaN</td>\n",
       "      <td>NaN</td>\n",
       "      <td>NaN</td>\n",
       "      <td>NaN</td>\n",
       "      <td>NaN</td>\n",
       "      <td>...</td>\n",
       "      <td>NaN</td>\n",
       "      <td>NaN</td>\n",
       "      <td>NaN</td>\n",
       "      <td>NaN</td>\n",
       "      <td>NaN</td>\n",
       "      <td>NaN</td>\n",
       "      <td>NaN</td>\n",
       "      <td>NaN</td>\n",
       "      <td>NaN</td>\n",
       "      <td>NaN</td>\n",
       "    </tr>\n",
       "    <tr>\n",
       "      <th>70</th>\n",
       "      <td>NaN</td>\n",
       "      <td>NaN</td>\n",
       "      <td>NaN</td>\n",
       "      <td>NaN</td>\n",
       "      <td>NaN</td>\n",
       "      <td>NaN</td>\n",
       "      <td>NaN</td>\n",
       "      <td>NaN</td>\n",
       "      <td>NaN</td>\n",
       "      <td>NaN</td>\n",
       "      <td>...</td>\n",
       "      <td>NaN</td>\n",
       "      <td>NaN</td>\n",
       "      <td>NaN</td>\n",
       "      <td>NaN</td>\n",
       "      <td>NaN</td>\n",
       "      <td>NaN</td>\n",
       "      <td>NaN</td>\n",
       "      <td>NaN</td>\n",
       "      <td>NaN</td>\n",
       "      <td>NaN</td>\n",
       "    </tr>\n",
       "    <tr>\n",
       "      <th>75</th>\n",
       "      <td>NaN</td>\n",
       "      <td>NaN</td>\n",
       "      <td>NaN</td>\n",
       "      <td>NaN</td>\n",
       "      <td>NaN</td>\n",
       "      <td>NaN</td>\n",
       "      <td>NaN</td>\n",
       "      <td>NaN</td>\n",
       "      <td>NaN</td>\n",
       "      <td>NaN</td>\n",
       "      <td>...</td>\n",
       "      <td>NaN</td>\n",
       "      <td>NaN</td>\n",
       "      <td>NaN</td>\n",
       "      <td>NaN</td>\n",
       "      <td>NaN</td>\n",
       "      <td>NaN</td>\n",
       "      <td>NaN</td>\n",
       "      <td>NaN</td>\n",
       "      <td>NaN</td>\n",
       "      <td>NaN</td>\n",
       "    </tr>\n",
       "  </tbody>\n",
       "</table>\n",
       "<p>3 rows × 52 columns</p>\n",
       "</div>"
      ],
      "text/plain": [
       "   Fact Fact Note Alabama Alaska Arizona Arkansas California Colorado  \\\n",
       "67  NaN       NaN     NaN    NaN     NaN      NaN        NaN      NaN   \n",
       "70  NaN       NaN     NaN    NaN     NaN      NaN        NaN      NaN   \n",
       "75  NaN       NaN     NaN    NaN     NaN      NaN        NaN      NaN   \n",
       "\n",
       "   Connecticut Delaware  ... South Dakota Tennessee Texas Utah Vermont  \\\n",
       "67         NaN      NaN  ...          NaN       NaN   NaN  NaN     NaN   \n",
       "70         NaN      NaN  ...          NaN       NaN   NaN  NaN     NaN   \n",
       "75         NaN      NaN  ...          NaN       NaN   NaN  NaN     NaN   \n",
       "\n",
       "   Virginia Washington West Virginia Wisconsin Wyoming  \n",
       "67      NaN        NaN           NaN       NaN     NaN  \n",
       "70      NaN        NaN           NaN       NaN     NaN  \n",
       "75      NaN        NaN           NaN       NaN     NaN  \n",
       "\n",
       "[3 rows x 52 columns]"
      ]
     },
     "execution_count": 10,
     "metadata": {},
     "output_type": "execute_result"
    }
   ],
   "source": [
    "census_data[census_data.duplicated()]"
   ]
  },
  {
   "cell_type": "markdown",
   "metadata": {},
   "source": [
    "Duplicated columns are empty rows"
   ]
  },
  {
   "cell_type": "markdown",
   "metadata": {},
   "source": [
    "All state columns seem to contain the same amount of data. Lets have a look on the empty values"
   ]
  },
  {
   "cell_type": "code",
   "execution_count": 11,
   "metadata": {},
   "outputs": [
    {
     "data": {
      "text/plain": [
       "Fact               5\n",
       "Fact Note         57\n",
       "Alabama           20\n",
       "Alaska            20\n",
       "Arizona           20\n",
       "Arkansas          20\n",
       "California        20\n",
       "Colorado          20\n",
       "Connecticut       20\n",
       "Delaware          20\n",
       "Florida           20\n",
       "Georgia           20\n",
       "Hawaii            20\n",
       "Idaho             20\n",
       "Illinois          20\n",
       "Indiana           20\n",
       "Iowa              20\n",
       "Kansas            20\n",
       "Kentucky          20\n",
       "Louisiana         20\n",
       "Maine             20\n",
       "Maryland          20\n",
       "Massachusetts     20\n",
       "Michigan          20\n",
       "Minnesota         20\n",
       "Mississippi       20\n",
       "Missouri          20\n",
       "Montana           20\n",
       "Nebraska          20\n",
       "Nevada            20\n",
       "New Hampshire     20\n",
       "New Jersey        20\n",
       "New Mexico        20\n",
       "New York          20\n",
       "North Carolina    20\n",
       "North Dakota      20\n",
       "Ohio              20\n",
       "Oklahoma          20\n",
       "Oregon            20\n",
       "Pennsylvania      20\n",
       "Rhode Island      20\n",
       "South Carolina    20\n",
       "South Dakota      20\n",
       "Tennessee         20\n",
       "Texas             20\n",
       "Utah              20\n",
       "Vermont           20\n",
       "Virginia          20\n",
       "Washington        20\n",
       "West Virginia     20\n",
       "Wisconsin         20\n",
       "Wyoming           20\n",
       "dtype: int64"
      ]
     },
     "execution_count": 11,
     "metadata": {},
     "output_type": "execute_result"
    }
   ],
   "source": [
    "census_data.isna().sum()"
   ]
  },
  {
   "cell_type": "markdown",
   "metadata": {},
   "source": [
    "Empty values are part of full empty rows, so we may drop them without loosing any information."
   ]
  },
  {
   "cell_type": "markdown",
   "metadata": {},
   "source": [
    "Data associated to states columns seem to be mixed between standar number values and percentages. We may consider using float for all those values.\n",
    "\n",
    "However, *fact* column seems to be more scattered. We found rows related to 2016 and 2010 data until row number 65, and *Fact Note* column appears to be irrelevant for data analysis and we may drop it."
   ]
  },
  {
   "cell_type": "code",
   "execution_count": 12,
   "metadata": {},
   "outputs": [
    {
     "data": {
      "text/plain": [
       "0          Population estimates, July 1, 2016,  (V2016)\n",
       "1     Population estimates base, April 1, 2010,  (V2...\n",
       "2     Population, percent change - April 1, 2010 (es...\n",
       "3                     Population, Census, April 1, 2010\n",
       "4     Persons under 5 years, percent, July 1, 2016, ...\n",
       "5         Persons under 5 years, percent, April 1, 2010\n",
       "6     Persons under 18 years, percent, July 1, 2016,...\n",
       "7        Persons under 18 years, percent, April 1, 2010\n",
       "8     Persons 65 years and over, percent,  July 1, 2...\n",
       "9     Persons 65 years and over, percent, April 1, 2010\n",
       "10     Female persons, percent,  July 1, 2016,  (V2016)\n",
       "11               Female persons, percent, April 1, 2010\n",
       "12         White alone, percent, July 1, 2016,  (V2016)\n",
       "13    Black or African American alone, percent, July...\n",
       "14    American Indian and Alaska Native alone, perce...\n",
       "15         Asian alone, percent, July 1, 2016,  (V2016)\n",
       "16    Native Hawaiian and Other Pacific Islander alo...\n",
       "17    Two or More Races, percent, July 1, 2016,  (V2...\n",
       "18    Hispanic or Latino, percent, July 1, 2016,  (V...\n",
       "19    White alone, not Hispanic or Latino, percent, ...\n",
       "20                                  Veterans, 2011-2015\n",
       "21             Foreign born persons, percent, 2011-2015\n",
       "22               Housing units,  July 1, 2016,  (V2016)\n",
       "23                         Housing units, April 1, 2010\n",
       "24          Owner-occupied housing unit rate, 2011-2015\n",
       "25    Median value of owner-occupied housing units, ...\n",
       "26    Median selected monthly owner costs -with a mo...\n",
       "27    Median selected monthly owner costs -without a...\n",
       "28                         Median gross rent, 2011-2015\n",
       "29                               Building permits, 2016\n",
       "30                                Households, 2011-2015\n",
       "31                     Persons per household, 2011-2015\n",
       "32    Living in same house 1 year ago, percent of pe...\n",
       "33    Language other than English spoken at home, pe...\n",
       "34    High school graduate or higher, percent of per...\n",
       "35    Bachelor's degree or higher, percent of person...\n",
       "36    With a disability, under age 65 years, percent...\n",
       "37    Persons  without health insurance, under age 6...\n",
       "38    In civilian labor force, total, percent of pop...\n",
       "39    In civilian labor force, female, percent of po...\n",
       "40    Total accommodation and food services sales, 2...\n",
       "41    Total health care and social assistance receip...\n",
       "42         Total manufacturers shipments, 2012 ($1,000)\n",
       "43       Total merchant wholesaler sales, 2012 ($1,000)\n",
       "44                    Total retail sales, 2012 ($1,000)\n",
       "45                  Total retail sales per capita, 2012\n",
       "46    Mean travel time to work (minutes), workers ag...\n",
       "47    Median household income (in 2015 dollars), 201...\n",
       "48    Per capita income in past 12 months (in 2015 d...\n",
       "49                          Persons in poverty, percent\n",
       "Name: Fact, dtype: object"
      ]
     },
     "execution_count": 12,
     "metadata": {},
     "output_type": "execute_result"
    }
   ],
   "source": [
    "census_data.loc[:,\"Fact\"].head(50)"
   ]
  },
  {
   "cell_type": "code",
   "execution_count": 13,
   "metadata": {
    "scrolled": true
   },
   "outputs": [
    {
     "data": {
      "text/html": [
       "<div>\n",
       "<style scoped>\n",
       "    .dataframe tbody tr th:only-of-type {\n",
       "        vertical-align: middle;\n",
       "    }\n",
       "\n",
       "    .dataframe tbody tr th {\n",
       "        vertical-align: top;\n",
       "    }\n",
       "\n",
       "    .dataframe thead th {\n",
       "        text-align: right;\n",
       "    }\n",
       "</style>\n",
       "<table border=\"1\" class=\"dataframe\">\n",
       "  <thead>\n",
       "    <tr style=\"text-align: right;\">\n",
       "      <th></th>\n",
       "      <th>Fact</th>\n",
       "      <th>Fact Note</th>\n",
       "      <th>Alabama</th>\n",
       "    </tr>\n",
       "  </thead>\n",
       "  <tbody>\n",
       "    <tr>\n",
       "      <th>60</th>\n",
       "      <td>Veteran-owned firms, 2012</td>\n",
       "      <td>NaN</td>\n",
       "      <td>41,943</td>\n",
       "    </tr>\n",
       "    <tr>\n",
       "      <th>61</th>\n",
       "      <td>Nonveteran-owned firms, 2012</td>\n",
       "      <td>NaN</td>\n",
       "      <td>316,984</td>\n",
       "    </tr>\n",
       "    <tr>\n",
       "      <th>62</th>\n",
       "      <td>Population per square mile, 2010</td>\n",
       "      <td>NaN</td>\n",
       "      <td>94.4</td>\n",
       "    </tr>\n",
       "    <tr>\n",
       "      <th>63</th>\n",
       "      <td>Land area in square miles, 2010</td>\n",
       "      <td>NaN</td>\n",
       "      <td>50,645.33</td>\n",
       "    </tr>\n",
       "    <tr>\n",
       "      <th>64</th>\n",
       "      <td>FIPS Code</td>\n",
       "      <td>NaN</td>\n",
       "      <td>\"01\"</td>\n",
       "    </tr>\n",
       "    <tr>\n",
       "      <th>65</th>\n",
       "      <td>NaN</td>\n",
       "      <td>NaN</td>\n",
       "      <td>NaN</td>\n",
       "    </tr>\n",
       "    <tr>\n",
       "      <th>66</th>\n",
       "      <td>NOTE: FIPS Code values are enclosed in quotes ...</td>\n",
       "      <td>NaN</td>\n",
       "      <td>NaN</td>\n",
       "    </tr>\n",
       "    <tr>\n",
       "      <th>67</th>\n",
       "      <td>NaN</td>\n",
       "      <td>NaN</td>\n",
       "      <td>NaN</td>\n",
       "    </tr>\n",
       "    <tr>\n",
       "      <th>68</th>\n",
       "      <td>Value Notes</td>\n",
       "      <td>NaN</td>\n",
       "      <td>NaN</td>\n",
       "    </tr>\n",
       "    <tr>\n",
       "      <th>69</th>\n",
       "      <td>1</td>\n",
       "      <td>Includes data not distributed by county.</td>\n",
       "      <td>NaN</td>\n",
       "    </tr>\n",
       "    <tr>\n",
       "      <th>70</th>\n",
       "      <td>NaN</td>\n",
       "      <td>NaN</td>\n",
       "      <td>NaN</td>\n",
       "    </tr>\n",
       "    <tr>\n",
       "      <th>71</th>\n",
       "      <td>Fact Notes</td>\n",
       "      <td>NaN</td>\n",
       "      <td>NaN</td>\n",
       "    </tr>\n",
       "    <tr>\n",
       "      <th>72</th>\n",
       "      <td>(a)</td>\n",
       "      <td>Includes persons reporting only one race</td>\n",
       "      <td>NaN</td>\n",
       "    </tr>\n",
       "    <tr>\n",
       "      <th>73</th>\n",
       "      <td>(b)</td>\n",
       "      <td>Hispanics may be of any race, so also are incl...</td>\n",
       "      <td>NaN</td>\n",
       "    </tr>\n",
       "    <tr>\n",
       "      <th>74</th>\n",
       "      <td>(c)</td>\n",
       "      <td>Economic Census - Puerto Rico data are not com...</td>\n",
       "      <td>NaN</td>\n",
       "    </tr>\n",
       "    <tr>\n",
       "      <th>75</th>\n",
       "      <td>NaN</td>\n",
       "      <td>NaN</td>\n",
       "      <td>NaN</td>\n",
       "    </tr>\n",
       "    <tr>\n",
       "      <th>76</th>\n",
       "      <td>Value Flags</td>\n",
       "      <td>NaN</td>\n",
       "      <td>NaN</td>\n",
       "    </tr>\n",
       "    <tr>\n",
       "      <th>77</th>\n",
       "      <td>-</td>\n",
       "      <td>Either no or too few sample observations were ...</td>\n",
       "      <td>NaN</td>\n",
       "    </tr>\n",
       "    <tr>\n",
       "      <th>78</th>\n",
       "      <td>D</td>\n",
       "      <td>Suppressed to avoid disclosure of confidential...</td>\n",
       "      <td>NaN</td>\n",
       "    </tr>\n",
       "    <tr>\n",
       "      <th>79</th>\n",
       "      <td>F</td>\n",
       "      <td>Fewer than 25 firms</td>\n",
       "      <td>NaN</td>\n",
       "    </tr>\n",
       "    <tr>\n",
       "      <th>80</th>\n",
       "      <td>FN</td>\n",
       "      <td>Footnote on this item in place of data</td>\n",
       "      <td>NaN</td>\n",
       "    </tr>\n",
       "  </tbody>\n",
       "</table>\n",
       "</div>"
      ],
      "text/plain": [
       "                                                 Fact  \\\n",
       "60                          Veteran-owned firms, 2012   \n",
       "61                       Nonveteran-owned firms, 2012   \n",
       "62                   Population per square mile, 2010   \n",
       "63                    Land area in square miles, 2010   \n",
       "64                                          FIPS Code   \n",
       "65                                                NaN   \n",
       "66  NOTE: FIPS Code values are enclosed in quotes ...   \n",
       "67                                                NaN   \n",
       "68                                        Value Notes   \n",
       "69                                                  1   \n",
       "70                                                NaN   \n",
       "71                                         Fact Notes   \n",
       "72                                                (a)   \n",
       "73                                                (b)   \n",
       "74                                                (c)   \n",
       "75                                                NaN   \n",
       "76                                        Value Flags   \n",
       "77                                                  -   \n",
       "78                                                  D   \n",
       "79                                                  F   \n",
       "80                                                 FN   \n",
       "\n",
       "                                            Fact Note    Alabama  \n",
       "60                                                NaN     41,943  \n",
       "61                                                NaN    316,984  \n",
       "62                                                NaN       94.4  \n",
       "63                                                NaN  50,645.33  \n",
       "64                                                NaN       \"01\"  \n",
       "65                                                NaN        NaN  \n",
       "66                                                NaN        NaN  \n",
       "67                                                NaN        NaN  \n",
       "68                                                NaN        NaN  \n",
       "69           Includes data not distributed by county.        NaN  \n",
       "70                                                NaN        NaN  \n",
       "71                                                NaN        NaN  \n",
       "72           Includes persons reporting only one race        NaN  \n",
       "73  Hispanics may be of any race, so also are incl...        NaN  \n",
       "74  Economic Census - Puerto Rico data are not com...        NaN  \n",
       "75                                                NaN        NaN  \n",
       "76                                                NaN        NaN  \n",
       "77  Either no or too few sample observations were ...        NaN  \n",
       "78  Suppressed to avoid disclosure of confidential...        NaN  \n",
       "79                                Fewer than 25 firms        NaN  \n",
       "80             Footnote on this item in place of data        NaN  "
      ]
     },
     "execution_count": 13,
     "metadata": {},
     "output_type": "execute_result"
    }
   ],
   "source": [
    "census_data.loc[60:80, \"Fact\":\"Alabama\"]"
   ]
  },
  {
   "cell_type": "markdown",
   "metadata": {},
   "source": [
    "On the other hand, some cells in the states columns contain differents symbols that cannot be converted directly to float values:\n",
    "    - Strings that contains \"%\" symbol. These need to remove the symbol and divided by 100 to make them unitary.\n",
    "    - Strings that contains \"$\" symbol. These need to remove the symbol.\n",
    "    - Strings that contains \",\" symbol as miles separator. These need to remove the symbol.\n",
    "    - Strings that are simple numbers. These can be converted directly."
   ]
  },
  {
   "cell_type": "code",
   "execution_count": 15,
   "metadata": {
    "scrolled": true
   },
   "outputs": [
    {
     "name": "stdout",
     "output_type": "stream",
     "text": [
      "Total Percent Symbols:  1097 \n",
      "Total Dolar Symbols:  272 \n",
      "Total Comma Symbols:  1215\n"
     ]
    }
   ],
   "source": [
    "rows = census_data.loc[0:63, \"Alabama\":\"Wyoming\"].index;\n",
    "\n",
    "def countSpecialSymbols(dataset):\n",
    "    total_percent_symbols = 0\n",
    "    total_dolar_symbols = 0\n",
    "    total_comma_symbols = 0\n",
    "    for row in rows:\n",
    "        total_percent_symbols += census_data.loc[row,:].str.contains(\"\\%\").sum()\n",
    "        total_dolar_symbols += census_data.loc[row,:].str.contains(\"\\$\").sum()\n",
    "        total_comma_symbols += census_data.loc[row,:].str.contains(\",\").sum()\n",
    "    return total_percent_symbols, total_dolar_symbols, total_comma_symbols\n",
    "\n",
    "ptcSyms, dolarSymbols, commaSymbols = countSpecialSymbols(rows)\n",
    "print(\"Total Percent Symbols: \",ptcSyms,\"\\nTotal Dolar Symbols: \", dolarSymbols, \"\\nTotal Comma Symbols: \",commaSymbols)"
   ]
  },
  {
   "cell_type": "markdown",
   "metadata": {},
   "source": [
    "Also, we may just pick those rows that is of our interest in this research. Those are: <b>Population</b> (0), <b>Persons 65 years and over, percent</b> (8), <b>Median Gross Rent</b> (28), <b>Bachelor's degree or higher, Persons in poverty, percent</b> (49), <b>Total employment</b> (51)."
   ]
  },
  {
   "cell_type": "markdown",
   "metadata": {},
   "source": [
    "Finally, we will need to adapt dataframe in order to merge it with Gun Dataset. This mean, having states as rows and not in columns as we find in census dataset."
   ]
  },
  {
   "cell_type": "markdown",
   "metadata": {},
   "source": [
    "### Data Cleaning"
   ]
  },
  {
   "cell_type": "markdown",
   "metadata": {},
   "source": [
    "#### Gun Data Cleaning\n",
    "* <b>Changing data types</b>. As discussed earlier, we will change <i>multiple, totals</i> type to float and <i>month</i> to datetime."
   ]
  },
  {
   "cell_type": "code",
   "execution_count": 17,
   "metadata": {},
   "outputs": [
    {
     "data": {
      "text/plain": [
       "(dtype('float64'), dtype('float64'))"
      ]
     },
     "execution_count": 17,
     "metadata": {},
     "output_type": "execute_result"
    }
   ],
   "source": [
    "gun_data[\"multiple\"] = gun_data[\"multiple\"].astype(float);\n",
    "gun_data[\"totals\"] = gun_data[\"totals\"].astype(float);\n",
    "gun_data[\"multiple\"].dtype, gun_data[\"totals\"].dtype"
   ]
  },
  {
   "cell_type": "code",
   "execution_count": 18,
   "metadata": {},
   "outputs": [
    {
     "data": {
      "text/plain": [
       "dtype('<M8[ns]')"
      ]
     },
     "execution_count": 18,
     "metadata": {},
     "output_type": "execute_result"
    }
   ],
   "source": [
    "gun_data[\"month\"] = pd.to_datetime(gun_data[\"month\"]);\n",
    "gun_data[\"month\"].dtype"
   ]
  },
  {
   "cell_type": "markdown",
   "metadata": {},
   "source": [
    "* <b>Filling null values.</b> As we pointed out before, null values seems to be zero values so we set those to zero."
   ]
  },
  {
   "cell_type": "code",
   "execution_count": 19,
   "metadata": {
    "scrolled": true
   },
   "outputs": [
    {
     "data": {
      "text/plain": [
       "0"
      ]
     },
     "execution_count": 19,
     "metadata": {},
     "output_type": "execute_result"
    }
   ],
   "source": [
    "gun_data.fillna(value=0, inplace=True);\n",
    "gun_data.isna().sum().sum()"
   ]
  },
  {
   "cell_type": "code",
   "execution_count": 20,
   "metadata": {},
   "outputs": [],
   "source": [
    "gun_data_clean = gun_data"
   ]
  },
  {
   "cell_type": "markdown",
   "metadata": {},
   "source": [
    "#### Census Data Cleaning\n",
    "* <b>Droping empty rows and columns<b>."
   ]
  },
  {
   "cell_type": "markdown",
   "metadata": {},
   "source": [
    "As commented before, Fact Note column does not content information of our interest."
   ]
  },
  {
   "cell_type": "code",
   "execution_count": 21,
   "metadata": {
    "scrolled": false
   },
   "outputs": [
    {
     "data": {
      "text/html": [
       "<div>\n",
       "<style scoped>\n",
       "    .dataframe tbody tr th:only-of-type {\n",
       "        vertical-align: middle;\n",
       "    }\n",
       "\n",
       "    .dataframe tbody tr th {\n",
       "        vertical-align: top;\n",
       "    }\n",
       "\n",
       "    .dataframe thead th {\n",
       "        text-align: right;\n",
       "    }\n",
       "</style>\n",
       "<table border=\"1\" class=\"dataframe\">\n",
       "  <thead>\n",
       "    <tr style=\"text-align: right;\">\n",
       "      <th></th>\n",
       "      <th>Fact</th>\n",
       "      <th>Alabama</th>\n",
       "      <th>Alaska</th>\n",
       "      <th>Arizona</th>\n",
       "      <th>Arkansas</th>\n",
       "      <th>California</th>\n",
       "      <th>Colorado</th>\n",
       "      <th>Connecticut</th>\n",
       "      <th>Delaware</th>\n",
       "      <th>Florida</th>\n",
       "      <th>...</th>\n",
       "      <th>South Dakota</th>\n",
       "      <th>Tennessee</th>\n",
       "      <th>Texas</th>\n",
       "      <th>Utah</th>\n",
       "      <th>Vermont</th>\n",
       "      <th>Virginia</th>\n",
       "      <th>Washington</th>\n",
       "      <th>West Virginia</th>\n",
       "      <th>Wisconsin</th>\n",
       "      <th>Wyoming</th>\n",
       "    </tr>\n",
       "  </thead>\n",
       "  <tbody>\n",
       "  </tbody>\n",
       "</table>\n",
       "<p>0 rows × 51 columns</p>\n",
       "</div>"
      ],
      "text/plain": [
       "Empty DataFrame\n",
       "Columns: [Fact, Alabama, Alaska, Arizona, Arkansas, California, Colorado, Connecticut, Delaware, Florida, Georgia, Hawaii, Idaho, Illinois, Indiana, Iowa, Kansas, Kentucky, Louisiana, Maine, Maryland, Massachusetts, Michigan, Minnesota, Mississippi, Missouri, Montana, Nebraska, Nevada, New Hampshire, New Jersey, New Mexico, New York, North Carolina, North Dakota, Ohio, Oklahoma, Oregon, Pennsylvania, Rhode Island, South Carolina, South Dakota, Tennessee, Texas, Utah, Vermont, Virginia, Washington, West Virginia, Wisconsin, Wyoming]\n",
       "Index: []\n",
       "\n",
       "[0 rows x 51 columns]"
      ]
     },
     "execution_count": 21,
     "metadata": {},
     "output_type": "execute_result"
    }
   ],
   "source": [
    "census_data.drop(axis=1, columns=[\"Fact Note\"], inplace=True);\n",
    "census_data.head(0)"
   ]
  },
  {
   "cell_type": "markdown",
   "metadata": {},
   "source": [
    "From row 65 data is empty so we may trim the dataset from there."
   ]
  },
  {
   "cell_type": "code",
   "execution_count": 22,
   "metadata": {
    "scrolled": true
   },
   "outputs": [
    {
     "data": {
      "text/html": [
       "<div>\n",
       "<style scoped>\n",
       "    .dataframe tbody tr th:only-of-type {\n",
       "        vertical-align: middle;\n",
       "    }\n",
       "\n",
       "    .dataframe tbody tr th {\n",
       "        vertical-align: top;\n",
       "    }\n",
       "\n",
       "    .dataframe thead th {\n",
       "        text-align: right;\n",
       "    }\n",
       "</style>\n",
       "<table border=\"1\" class=\"dataframe\">\n",
       "  <thead>\n",
       "    <tr style=\"text-align: right;\">\n",
       "      <th></th>\n",
       "      <th>Fact</th>\n",
       "      <th>Alabama</th>\n",
       "      <th>Alaska</th>\n",
       "      <th>Arizona</th>\n",
       "      <th>Arkansas</th>\n",
       "      <th>California</th>\n",
       "      <th>Colorado</th>\n",
       "      <th>Connecticut</th>\n",
       "      <th>Delaware</th>\n",
       "      <th>Florida</th>\n",
       "      <th>...</th>\n",
       "      <th>South Dakota</th>\n",
       "      <th>Tennessee</th>\n",
       "      <th>Texas</th>\n",
       "      <th>Utah</th>\n",
       "      <th>Vermont</th>\n",
       "      <th>Virginia</th>\n",
       "      <th>Washington</th>\n",
       "      <th>West Virginia</th>\n",
       "      <th>Wisconsin</th>\n",
       "      <th>Wyoming</th>\n",
       "    </tr>\n",
       "  </thead>\n",
       "  <tbody>\n",
       "    <tr>\n",
       "      <th>59</th>\n",
       "      <td>Nonminority-owned firms, 2012</td>\n",
       "      <td>272,651</td>\n",
       "      <td>51,147</td>\n",
       "      <td>344,981</td>\n",
       "      <td>189,029</td>\n",
       "      <td>1,819,107</td>\n",
       "      <td>442,365</td>\n",
       "      <td>259,614</td>\n",
       "      <td>54,782</td>\n",
       "      <td>1,121,749</td>\n",
       "      <td>...</td>\n",
       "      <td>74228</td>\n",
       "      <td>434025</td>\n",
       "      <td>1,224,845</td>\n",
       "      <td>218,826</td>\n",
       "      <td>70,491</td>\n",
       "      <td>450,109</td>\n",
       "      <td>426,697</td>\n",
       "      <td>104,785</td>\n",
       "      <td>379,934</td>\n",
       "      <td>55,397</td>\n",
       "    </tr>\n",
       "    <tr>\n",
       "      <th>60</th>\n",
       "      <td>Veteran-owned firms, 2012</td>\n",
       "      <td>41,943</td>\n",
       "      <td>7,953</td>\n",
       "      <td>46,780</td>\n",
       "      <td>25,915</td>\n",
       "      <td>252,377</td>\n",
       "      <td>51,722</td>\n",
       "      <td>31,056</td>\n",
       "      <td>7,206</td>\n",
       "      <td>185,756</td>\n",
       "      <td>...</td>\n",
       "      <td>8604</td>\n",
       "      <td>59379</td>\n",
       "      <td>213,590</td>\n",
       "      <td>18,754</td>\n",
       "      <td>8,237</td>\n",
       "      <td>76,434</td>\n",
       "      <td>49,331</td>\n",
       "      <td>12,912</td>\n",
       "      <td>39,830</td>\n",
       "      <td>6,470</td>\n",
       "    </tr>\n",
       "    <tr>\n",
       "      <th>61</th>\n",
       "      <td>Nonveteran-owned firms, 2012</td>\n",
       "      <td>316,984</td>\n",
       "      <td>56,091</td>\n",
       "      <td>427,582</td>\n",
       "      <td>192,988</td>\n",
       "      <td>3,176,341</td>\n",
       "      <td>469,524</td>\n",
       "      <td>281,182</td>\n",
       "      <td>60,318</td>\n",
       "      <td>1,846,686</td>\n",
       "      <td>...</td>\n",
       "      <td>66219</td>\n",
       "      <td>469392</td>\n",
       "      <td>2,057,218</td>\n",
       "      <td>219,807</td>\n",
       "      <td>63,317</td>\n",
       "      <td>548,439</td>\n",
       "      <td>461,401</td>\n",
       "      <td>94,960</td>\n",
       "      <td>370,755</td>\n",
       "      <td>51,353</td>\n",
       "    </tr>\n",
       "    <tr>\n",
       "      <th>62</th>\n",
       "      <td>Population per square mile, 2010</td>\n",
       "      <td>94.4</td>\n",
       "      <td>1.2</td>\n",
       "      <td>56.3</td>\n",
       "      <td>56</td>\n",
       "      <td>239.1</td>\n",
       "      <td>48.5</td>\n",
       "      <td>738.1</td>\n",
       "      <td>460.8</td>\n",
       "      <td>350.6</td>\n",
       "      <td>...</td>\n",
       "      <td>10.7</td>\n",
       "      <td>153.9</td>\n",
       "      <td>96.3</td>\n",
       "      <td>33.6</td>\n",
       "      <td>67.9</td>\n",
       "      <td>202.6</td>\n",
       "      <td>101.2</td>\n",
       "      <td>77.1</td>\n",
       "      <td>105</td>\n",
       "      <td>5.8</td>\n",
       "    </tr>\n",
       "    <tr>\n",
       "      <th>63</th>\n",
       "      <td>Land area in square miles, 2010</td>\n",
       "      <td>50,645.33</td>\n",
       "      <td>570,640.95</td>\n",
       "      <td>113,594.08</td>\n",
       "      <td>52,035.48</td>\n",
       "      <td>155,779.22</td>\n",
       "      <td>103,641.89</td>\n",
       "      <td>4,842.36</td>\n",
       "      <td>1,948.54</td>\n",
       "      <td>53,624.76</td>\n",
       "      <td>...</td>\n",
       "      <td>75811</td>\n",
       "      <td>41234.9</td>\n",
       "      <td>261,231.71</td>\n",
       "      <td>82,169.62</td>\n",
       "      <td>9,216.66</td>\n",
       "      <td>39,490.09</td>\n",
       "      <td>66,455.52</td>\n",
       "      <td>24,038.21</td>\n",
       "      <td>54,157.80</td>\n",
       "      <td>97,093.14</td>\n",
       "    </tr>\n",
       "  </tbody>\n",
       "</table>\n",
       "<p>5 rows × 51 columns</p>\n",
       "</div>"
      ],
      "text/plain": [
       "                                Fact    Alabama      Alaska     Arizona  \\\n",
       "59     Nonminority-owned firms, 2012    272,651      51,147     344,981   \n",
       "60         Veteran-owned firms, 2012     41,943       7,953      46,780   \n",
       "61      Nonveteran-owned firms, 2012    316,984      56,091     427,582   \n",
       "62  Population per square mile, 2010       94.4         1.2        56.3   \n",
       "63   Land area in square miles, 2010  50,645.33  570,640.95  113,594.08   \n",
       "\n",
       "     Arkansas  California    Colorado Connecticut  Delaware    Florida  ...  \\\n",
       "59    189,029   1,819,107     442,365     259,614    54,782  1,121,749  ...   \n",
       "60     25,915     252,377      51,722      31,056     7,206    185,756  ...   \n",
       "61    192,988   3,176,341     469,524     281,182    60,318  1,846,686  ...   \n",
       "62         56       239.1        48.5       738.1     460.8      350.6  ...   \n",
       "63  52,035.48  155,779.22  103,641.89    4,842.36  1,948.54  53,624.76  ...   \n",
       "\n",
       "   South Dakota Tennessee       Texas       Utah   Vermont   Virginia  \\\n",
       "59        74228    434025   1,224,845    218,826    70,491    450,109   \n",
       "60         8604     59379     213,590     18,754     8,237     76,434   \n",
       "61        66219    469392   2,057,218    219,807    63,317    548,439   \n",
       "62         10.7     153.9        96.3       33.6      67.9      202.6   \n",
       "63        75811   41234.9  261,231.71  82,169.62  9,216.66  39,490.09   \n",
       "\n",
       "   Washington West Virginia  Wisconsin    Wyoming  \n",
       "59    426,697       104,785    379,934     55,397  \n",
       "60     49,331        12,912     39,830      6,470  \n",
       "61    461,401        94,960    370,755     51,353  \n",
       "62      101.2          77.1        105        5.8  \n",
       "63  66,455.52     24,038.21  54,157.80  97,093.14  \n",
       "\n",
       "[5 rows x 51 columns]"
      ]
     },
     "execution_count": 22,
     "metadata": {},
     "output_type": "execute_result"
    }
   ],
   "source": [
    "census_data.drop(np.arange(64,census_data.shape[0]),inplace=True);\n",
    "census_data.drop(index=[42,53], inplace=True)\n",
    "census_data.tail()"
   ]
  },
  {
   "cell_type": "markdown",
   "metadata": {},
   "source": [
    "* <b>Getting rows of interes</b>"
   ]
  },
  {
   "cell_type": "code",
   "execution_count": 23,
   "metadata": {
    "scrolled": true
   },
   "outputs": [
    {
     "data": {
      "text/html": [
       "<div>\n",
       "<style scoped>\n",
       "    .dataframe tbody tr th:only-of-type {\n",
       "        vertical-align: middle;\n",
       "    }\n",
       "\n",
       "    .dataframe tbody tr th {\n",
       "        vertical-align: top;\n",
       "    }\n",
       "\n",
       "    .dataframe thead th {\n",
       "        text-align: right;\n",
       "    }\n",
       "</style>\n",
       "<table border=\"1\" class=\"dataframe\">\n",
       "  <thead>\n",
       "    <tr style=\"text-align: right;\">\n",
       "      <th></th>\n",
       "      <th>Fact</th>\n",
       "      <th>Alabama</th>\n",
       "      <th>Alaska</th>\n",
       "      <th>Arizona</th>\n",
       "      <th>Arkansas</th>\n",
       "      <th>California</th>\n",
       "      <th>Colorado</th>\n",
       "      <th>Connecticut</th>\n",
       "      <th>Delaware</th>\n",
       "      <th>Florida</th>\n",
       "      <th>...</th>\n",
       "      <th>South Dakota</th>\n",
       "      <th>Tennessee</th>\n",
       "      <th>Texas</th>\n",
       "      <th>Utah</th>\n",
       "      <th>Vermont</th>\n",
       "      <th>Virginia</th>\n",
       "      <th>Washington</th>\n",
       "      <th>West Virginia</th>\n",
       "      <th>Wisconsin</th>\n",
       "      <th>Wyoming</th>\n",
       "    </tr>\n",
       "  </thead>\n",
       "  <tbody>\n",
       "    <tr>\n",
       "      <th>0</th>\n",
       "      <td>Population estimates, July 1, 2016,  (V2016)</td>\n",
       "      <td>4,863,300</td>\n",
       "      <td>741,894</td>\n",
       "      <td>6,931,071</td>\n",
       "      <td>2,988,248</td>\n",
       "      <td>39,250,017</td>\n",
       "      <td>5,540,545</td>\n",
       "      <td>3,576,452</td>\n",
       "      <td>952,065</td>\n",
       "      <td>20,612,439</td>\n",
       "      <td>...</td>\n",
       "      <td>865454</td>\n",
       "      <td>6651194</td>\n",
       "      <td>27,862,596</td>\n",
       "      <td>3,051,217</td>\n",
       "      <td>624,594</td>\n",
       "      <td>8,411,808</td>\n",
       "      <td>7,288,000</td>\n",
       "      <td>1,831,102</td>\n",
       "      <td>5,778,708</td>\n",
       "      <td>585,501</td>\n",
       "    </tr>\n",
       "    <tr>\n",
       "      <th>8</th>\n",
       "      <td>Persons 65 years and over, percent,  July 1, 2...</td>\n",
       "      <td>16.10%</td>\n",
       "      <td>10.40%</td>\n",
       "      <td>16.90%</td>\n",
       "      <td>16.30%</td>\n",
       "      <td>13.60%</td>\n",
       "      <td>13.40%</td>\n",
       "      <td>16.10%</td>\n",
       "      <td>17.50%</td>\n",
       "      <td>19.90%</td>\n",
       "      <td>...</td>\n",
       "      <td>0.16</td>\n",
       "      <td>0.157</td>\n",
       "      <td>12.00%</td>\n",
       "      <td>10.50%</td>\n",
       "      <td>18.10%</td>\n",
       "      <td>14.60%</td>\n",
       "      <td>14.80%</td>\n",
       "      <td>18.80%</td>\n",
       "      <td>16.10%</td>\n",
       "      <td>15.00%</td>\n",
       "    </tr>\n",
       "    <tr>\n",
       "      <th>28</th>\n",
       "      <td>Median gross rent, 2011-2015</td>\n",
       "      <td>$717</td>\n",
       "      <td>$1,146</td>\n",
       "      <td>$913</td>\n",
       "      <td>$677</td>\n",
       "      <td>$1,255</td>\n",
       "      <td>$1,002</td>\n",
       "      <td>$1,075</td>\n",
       "      <td>$1,018</td>\n",
       "      <td>$1,002</td>\n",
       "      <td>...</td>\n",
       "      <td>655</td>\n",
       "      <td>764</td>\n",
       "      <td>$882</td>\n",
       "      <td>$887</td>\n",
       "      <td>$895</td>\n",
       "      <td>$1,116</td>\n",
       "      <td>$1,014</td>\n",
       "      <td>$643</td>\n",
       "      <td>$776</td>\n",
       "      <td>$789</td>\n",
       "    </tr>\n",
       "    <tr>\n",
       "      <th>35</th>\n",
       "      <td>Bachelor's degree or higher, percent of person...</td>\n",
       "      <td>23.50%</td>\n",
       "      <td>28.00%</td>\n",
       "      <td>27.50%</td>\n",
       "      <td>21.10%</td>\n",
       "      <td>31.40%</td>\n",
       "      <td>38.10%</td>\n",
       "      <td>37.60%</td>\n",
       "      <td>30.00%</td>\n",
       "      <td>27.30%</td>\n",
       "      <td>...</td>\n",
       "      <td>0.27</td>\n",
       "      <td>0.249</td>\n",
       "      <td>27.60%</td>\n",
       "      <td>31.10%</td>\n",
       "      <td>36.00%</td>\n",
       "      <td>36.30%</td>\n",
       "      <td>32.90%</td>\n",
       "      <td>19.20%</td>\n",
       "      <td>27.80%</td>\n",
       "      <td>25.70%</td>\n",
       "    </tr>\n",
       "    <tr>\n",
       "      <th>49</th>\n",
       "      <td>Persons in poverty, percent</td>\n",
       "      <td>17.10%</td>\n",
       "      <td>9.90%</td>\n",
       "      <td>16.40%</td>\n",
       "      <td>17.20%</td>\n",
       "      <td>14.30%</td>\n",
       "      <td>11.00%</td>\n",
       "      <td>9.80%</td>\n",
       "      <td>11.70%</td>\n",
       "      <td>14.70%</td>\n",
       "      <td>...</td>\n",
       "      <td>0.133</td>\n",
       "      <td>0.158</td>\n",
       "      <td>15.60%</td>\n",
       "      <td>10.20%</td>\n",
       "      <td>11.90%</td>\n",
       "      <td>11.00%</td>\n",
       "      <td>11.30%</td>\n",
       "      <td>17.90%</td>\n",
       "      <td>11.80%</td>\n",
       "      <td>11.30%</td>\n",
       "    </tr>\n",
       "  </tbody>\n",
       "</table>\n",
       "<p>5 rows × 51 columns</p>\n",
       "</div>"
      ],
      "text/plain": [
       "                                                 Fact    Alabama   Alaska  \\\n",
       "0        Population estimates, July 1, 2016,  (V2016)  4,863,300  741,894   \n",
       "8   Persons 65 years and over, percent,  July 1, 2...     16.10%   10.40%   \n",
       "28                       Median gross rent, 2011-2015      $717   $1,146    \n",
       "35  Bachelor's degree or higher, percent of person...     23.50%   28.00%   \n",
       "49                        Persons in poverty, percent     17.10%    9.90%   \n",
       "\n",
       "      Arizona   Arkansas  California   Colorado Connecticut Delaware  \\\n",
       "0   6,931,071  2,988,248  39,250,017  5,540,545   3,576,452  952,065   \n",
       "8      16.90%     16.30%      13.60%     13.40%      16.10%   17.50%   \n",
       "28      $913       $677      $1,255     $1,002      $1,075   $1,018    \n",
       "35     27.50%     21.10%      31.40%     38.10%      37.60%   30.00%   \n",
       "49     16.40%     17.20%      14.30%     11.00%       9.80%   11.70%   \n",
       "\n",
       "       Florida  ... South Dakota Tennessee       Texas       Utah  Vermont  \\\n",
       "0   20,612,439  ...       865454   6651194  27,862,596  3,051,217  624,594   \n",
       "8       19.90%  ...         0.16     0.157      12.00%     10.50%   18.10%   \n",
       "28     $1,002   ...          655       764       $882       $887     $895    \n",
       "35      27.30%  ...         0.27     0.249      27.60%     31.10%   36.00%   \n",
       "49      14.70%  ...        0.133     0.158      15.60%     10.20%   11.90%   \n",
       "\n",
       "     Virginia Washington West Virginia  Wisconsin  Wyoming  \n",
       "0   8,411,808  7,288,000     1,831,102  5,778,708  585,501  \n",
       "8      14.60%     14.80%        18.80%     16.10%   15.00%  \n",
       "28    $1,116     $1,014          $643       $776     $789   \n",
       "35     36.30%     32.90%        19.20%     27.80%   25.70%  \n",
       "49     11.00%     11.30%        17.90%     11.80%   11.30%  \n",
       "\n",
       "[5 rows x 51 columns]"
      ]
     },
     "execution_count": 23,
     "metadata": {},
     "output_type": "execute_result"
    }
   ],
   "source": [
    "census_data_trimmed = census_data.loc[np.r_[0, 8, 28, 35, 49, 51]]\n",
    "census_data_trimmed.head()"
   ]
  },
  {
   "cell_type": "markdown",
   "metadata": {},
   "source": [
    "* <b>Setting string cells to float values</b>.\n",
    "\n",
    "We have different situations in converting string values of States columns to float type:\n",
    "    - Strings that contains \"%\" symbol. These need to remove the symbol and divided by 100 to make them unitary.\n",
    "    - Strings that contains \"$\" symbol. These need to remove the symbol.\n",
    "    - Strings that contains \",\" symbol as miles separator. These need to remove the symbol.\n",
    "    - Strings that are simple numbers. These can be converted directly."
   ]
  },
  {
   "cell_type": "code",
   "execution_count": 24,
   "metadata": {},
   "outputs": [
    {
     "data": {
      "text/plain": [
       "(6, 51)"
      ]
     },
     "execution_count": 24,
     "metadata": {},
     "output_type": "execute_result"
    }
   ],
   "source": [
    "census_data_trimmed.shape"
   ]
  },
  {
   "cell_type": "code",
   "execution_count": 25,
   "metadata": {
    "scrolled": true
   },
   "outputs": [],
   "source": [
    "rows = census_data_trimmed.loc[:, \"Alabama\":\"Wyoming\"].index;\n",
    "for row in rows:\n",
    "    rowValue = census_data_trimmed.loc[row, \"Alabama\":\"Wyoming\"]\n",
    "    if rowValue.str.contains(\",\").any():\n",
    "        rowValue[rowValue.str.contains(\",\")] = rowValue[rowValue.str.contains(\",\")].str.replace(\",\",\"\")\n",
    "    if rowValue.str.contains(\"\\%\").any():\n",
    "        rowValue[rowValue.str.contains(\"\\%\")] = rowValue[rowValue.str.contains(\"\\%\")].str.replace(\"\\%\",\"\").astype(float)/100\n",
    "    if rowValue.str.contains(\"\\$\").any():\n",
    "        rowValue[rowValue.str.contains(\"\\$\")] = rowValue[rowValue.str.contains(\"\\$\")].str.replace(\"\\$\",\"\").astype(float)"
   ]
  },
  {
   "cell_type": "code",
   "execution_count": 26,
   "metadata": {
    "scrolled": false
   },
   "outputs": [
    {
     "name": "stdout",
     "output_type": "stream",
     "text": [
      "Total Percent Symbols:  114 \n",
      "Total Dolar Symbols:  38 \n",
      "Total Comma Symbols:  95\n"
     ]
    }
   ],
   "source": [
    "rows = census_data_trimmed.loc[0:63, \"Alabama\":\"Wyoming\"].index;\n",
    "ptcSyms, dolarSymbols, commaSymbols = countSpecialSymbols(rows)\n",
    "\n",
    "print(\"Total Percent Symbols: \",ptcSyms,\"\\nTotal Dolar Symbols: \", dolarSymbols, \"\\nTotal Comma Symbols: \",commaSymbols)"
   ]
  },
  {
   "cell_type": "markdown",
   "metadata": {},
   "source": [
    "Lets change change data type as float for the rest of cells without special symbols"
   ]
  },
  {
   "cell_type": "code",
   "execution_count": 27,
   "metadata": {},
   "outputs": [],
   "source": [
    "census_data_trimmed[\"Alabama\"] = census_data_trimmed[\"Alabama\"].astype(float)\n",
    "census_data_trimmed.loc[:,\"Alabama\":\"Wyoming\"] = census_data_trimmed.loc[:,\"Alabama\":\"Wyoming\"].astype(float)"
   ]
  },
  {
   "cell_type": "code",
   "execution_count": 28,
   "metadata": {},
   "outputs": [
    {
     "name": "stdout",
     "output_type": "stream",
     "text": [
      "<class 'pandas.core.frame.DataFrame'>\n",
      "Int64Index: 6 entries, 0 to 51\n",
      "Data columns (total 51 columns):\n",
      " #   Column          Non-Null Count  Dtype  \n",
      "---  ------          --------------  -----  \n",
      " 0   Fact            6 non-null      object \n",
      " 1   Alabama         6 non-null      float64\n",
      " 2   Alaska          6 non-null      float64\n",
      " 3   Arizona         6 non-null      float64\n",
      " 4   Arkansas        6 non-null      float64\n",
      " 5   California      6 non-null      float64\n",
      " 6   Colorado        6 non-null      float64\n",
      " 7   Connecticut     6 non-null      float64\n",
      " 8   Delaware        6 non-null      float64\n",
      " 9   Florida         6 non-null      float64\n",
      " 10  Georgia         6 non-null      float64\n",
      " 11  Hawaii          6 non-null      float64\n",
      " 12  Idaho           6 non-null      float64\n",
      " 13  Illinois        6 non-null      float64\n",
      " 14  Indiana         6 non-null      float64\n",
      " 15  Iowa            6 non-null      float64\n",
      " 16  Kansas          6 non-null      float64\n",
      " 17  Kentucky        6 non-null      float64\n",
      " 18  Louisiana       6 non-null      float64\n",
      " 19  Maine           6 non-null      float64\n",
      " 20  Maryland        6 non-null      float64\n",
      " 21  Massachusetts   6 non-null      float64\n",
      " 22  Michigan        6 non-null      float64\n",
      " 23  Minnesota       6 non-null      float64\n",
      " 24  Mississippi     6 non-null      float64\n",
      " 25  Missouri        6 non-null      float64\n",
      " 26  Montana         6 non-null      float64\n",
      " 27  Nebraska        6 non-null      float64\n",
      " 28  Nevada          6 non-null      float64\n",
      " 29  New Hampshire   6 non-null      float64\n",
      " 30  New Jersey      6 non-null      float64\n",
      " 31  New Mexico      6 non-null      float64\n",
      " 32  New York        6 non-null      float64\n",
      " 33  North Carolina  6 non-null      float64\n",
      " 34  North Dakota    6 non-null      float64\n",
      " 35  Ohio            6 non-null      float64\n",
      " 36  Oklahoma        6 non-null      float64\n",
      " 37  Oregon          6 non-null      float64\n",
      " 38  Pennsylvania    6 non-null      float64\n",
      " 39  Rhode Island    6 non-null      float64\n",
      " 40  South Carolina  6 non-null      float64\n",
      " 41  South Dakota    6 non-null      float64\n",
      " 42  Tennessee       6 non-null      float64\n",
      " 43  Texas           6 non-null      float64\n",
      " 44  Utah            6 non-null      float64\n",
      " 45  Vermont         6 non-null      float64\n",
      " 46  Virginia        6 non-null      float64\n",
      " 47  Washington      6 non-null      float64\n",
      " 48  West Virginia   6 non-null      float64\n",
      " 49  Wisconsin       6 non-null      float64\n",
      " 50  Wyoming         6 non-null      float64\n",
      "dtypes: float64(50), object(1)\n",
      "memory usage: 2.6+ KB\n"
     ]
    }
   ],
   "source": [
    "census_data_trimmed.info()"
   ]
  },
  {
   "cell_type": "markdown",
   "metadata": {},
   "source": [
    "* <b>Transposing dataframe and renaming columns</b>"
   ]
  },
  {
   "cell_type": "code",
   "execution_count": 29,
   "metadata": {
    "scrolled": true
   },
   "outputs": [
    {
     "data": {
      "text/html": [
       "<div>\n",
       "<style scoped>\n",
       "    .dataframe tbody tr th:only-of-type {\n",
       "        vertical-align: middle;\n",
       "    }\n",
       "\n",
       "    .dataframe tbody tr th {\n",
       "        vertical-align: top;\n",
       "    }\n",
       "\n",
       "    .dataframe thead th {\n",
       "        text-align: right;\n",
       "    }\n",
       "</style>\n",
       "<table border=\"1\" class=\"dataframe\">\n",
       "  <thead>\n",
       "    <tr style=\"text-align: right;\">\n",
       "      <th>Fact</th>\n",
       "      <th>Population estimates, July 1, 2016,  (V2016)</th>\n",
       "      <th>Persons 65 years and over, percent,  July 1, 2016,  (V2016)</th>\n",
       "      <th>Median gross rent, 2011-2015</th>\n",
       "      <th>Bachelor's degree or higher, percent of persons age 25 years+, 2011-2015</th>\n",
       "      <th>Persons in poverty, percent</th>\n",
       "      <th>Total employment, 2015</th>\n",
       "    </tr>\n",
       "  </thead>\n",
       "  <tbody>\n",
       "    <tr>\n",
       "      <th>Alabama</th>\n",
       "      <td>4863300.0</td>\n",
       "      <td>0.161</td>\n",
       "      <td>717.0</td>\n",
       "      <td>0.235</td>\n",
       "      <td>0.171</td>\n",
       "      <td>1634391.0</td>\n",
       "    </tr>\n",
       "    <tr>\n",
       "      <th>Alaska</th>\n",
       "      <td>741894.0</td>\n",
       "      <td>0.104</td>\n",
       "      <td>1146.0</td>\n",
       "      <td>0.280</td>\n",
       "      <td>0.099</td>\n",
       "      <td>267999.0</td>\n",
       "    </tr>\n",
       "    <tr>\n",
       "      <th>Arizona</th>\n",
       "      <td>6931071.0</td>\n",
       "      <td>0.169</td>\n",
       "      <td>913.0</td>\n",
       "      <td>0.275</td>\n",
       "      <td>0.164</td>\n",
       "      <td>2295186.0</td>\n",
       "    </tr>\n",
       "    <tr>\n",
       "      <th>Arkansas</th>\n",
       "      <td>2988248.0</td>\n",
       "      <td>0.163</td>\n",
       "      <td>677.0</td>\n",
       "      <td>0.211</td>\n",
       "      <td>0.172</td>\n",
       "      <td>1003113.0</td>\n",
       "    </tr>\n",
       "    <tr>\n",
       "      <th>California</th>\n",
       "      <td>39250017.0</td>\n",
       "      <td>0.136</td>\n",
       "      <td>1255.0</td>\n",
       "      <td>0.314</td>\n",
       "      <td>0.143</td>\n",
       "      <td>14325377.0</td>\n",
       "    </tr>\n",
       "  </tbody>\n",
       "</table>\n",
       "</div>"
      ],
      "text/plain": [
       "Fact        Population estimates, July 1, 2016,  (V2016)  \\\n",
       "Alabama                                        4863300.0   \n",
       "Alaska                                          741894.0   \n",
       "Arizona                                        6931071.0   \n",
       "Arkansas                                       2988248.0   \n",
       "California                                    39250017.0   \n",
       "\n",
       "Fact        Persons 65 years and over, percent,  July 1, 2016,  (V2016)  \\\n",
       "Alabama                                                 0.161             \n",
       "Alaska                                                  0.104             \n",
       "Arizona                                                 0.169             \n",
       "Arkansas                                                0.163             \n",
       "California                                              0.136             \n",
       "\n",
       "Fact        Median gross rent, 2011-2015  \\\n",
       "Alabama                            717.0   \n",
       "Alaska                            1146.0   \n",
       "Arizona                            913.0   \n",
       "Arkansas                           677.0   \n",
       "California                        1255.0   \n",
       "\n",
       "Fact        Bachelor's degree or higher, percent of persons age 25 years+, 2011-2015  \\\n",
       "Alabama                                                 0.235                          \n",
       "Alaska                                                  0.280                          \n",
       "Arizona                                                 0.275                          \n",
       "Arkansas                                                0.211                          \n",
       "California                                              0.314                          \n",
       "\n",
       "Fact        Persons in poverty, percent  Total employment, 2015  \n",
       "Alabama                           0.171               1634391.0  \n",
       "Alaska                            0.099                267999.0  \n",
       "Arizona                           0.164               2295186.0  \n",
       "Arkansas                          0.172               1003113.0  \n",
       "California                        0.143              14325377.0  "
      ]
     },
     "execution_count": 29,
     "metadata": {},
     "output_type": "execute_result"
    }
   ],
   "source": [
    "census_data_clean = census_data_trimmed.set_index(\"Fact\").transpose()\n",
    "census_data_clean.head()"
   ]
  },
  {
   "cell_type": "markdown",
   "metadata": {},
   "source": [
    "We will rename column's names in order to operate with them easily"
   ]
  },
  {
   "cell_type": "code",
   "execution_count": 30,
   "metadata": {
    "scrolled": true
   },
   "outputs": [
    {
     "data": {
      "text/html": [
       "<div>\n",
       "<style scoped>\n",
       "    .dataframe tbody tr th:only-of-type {\n",
       "        vertical-align: middle;\n",
       "    }\n",
       "\n",
       "    .dataframe tbody tr th {\n",
       "        vertical-align: top;\n",
       "    }\n",
       "\n",
       "    .dataframe thead th {\n",
       "        text-align: right;\n",
       "    }\n",
       "</style>\n",
       "<table border=\"1\" class=\"dataframe\">\n",
       "  <thead>\n",
       "    <tr style=\"text-align: right;\">\n",
       "      <th>Fact</th>\n",
       "      <th>state</th>\n",
       "      <th>population</th>\n",
       "      <th>old_population_pct</th>\n",
       "      <th>mean_rent</th>\n",
       "      <th>high_studies_pct</th>\n",
       "      <th>population_poverty_pct</th>\n",
       "      <th>total_employment</th>\n",
       "    </tr>\n",
       "  </thead>\n",
       "  <tbody>\n",
       "    <tr>\n",
       "      <th>0</th>\n",
       "      <td>Alabama</td>\n",
       "      <td>4863300.0</td>\n",
       "      <td>0.161</td>\n",
       "      <td>717.0</td>\n",
       "      <td>0.235</td>\n",
       "      <td>0.171</td>\n",
       "      <td>1634391.0</td>\n",
       "    </tr>\n",
       "    <tr>\n",
       "      <th>1</th>\n",
       "      <td>Alaska</td>\n",
       "      <td>741894.0</td>\n",
       "      <td>0.104</td>\n",
       "      <td>1146.0</td>\n",
       "      <td>0.280</td>\n",
       "      <td>0.099</td>\n",
       "      <td>267999.0</td>\n",
       "    </tr>\n",
       "    <tr>\n",
       "      <th>2</th>\n",
       "      <td>Arizona</td>\n",
       "      <td>6931071.0</td>\n",
       "      <td>0.169</td>\n",
       "      <td>913.0</td>\n",
       "      <td>0.275</td>\n",
       "      <td>0.164</td>\n",
       "      <td>2295186.0</td>\n",
       "    </tr>\n",
       "    <tr>\n",
       "      <th>3</th>\n",
       "      <td>Arkansas</td>\n",
       "      <td>2988248.0</td>\n",
       "      <td>0.163</td>\n",
       "      <td>677.0</td>\n",
       "      <td>0.211</td>\n",
       "      <td>0.172</td>\n",
       "      <td>1003113.0</td>\n",
       "    </tr>\n",
       "    <tr>\n",
       "      <th>4</th>\n",
       "      <td>California</td>\n",
       "      <td>39250017.0</td>\n",
       "      <td>0.136</td>\n",
       "      <td>1255.0</td>\n",
       "      <td>0.314</td>\n",
       "      <td>0.143</td>\n",
       "      <td>14325377.0</td>\n",
       "    </tr>\n",
       "  </tbody>\n",
       "</table>\n",
       "</div>"
      ],
      "text/plain": [
       "Fact       state  population  old_population_pct  mean_rent  high_studies_pct  \\\n",
       "0        Alabama   4863300.0               0.161      717.0             0.235   \n",
       "1         Alaska    741894.0               0.104     1146.0             0.280   \n",
       "2        Arizona   6931071.0               0.169      913.0             0.275   \n",
       "3       Arkansas   2988248.0               0.163      677.0             0.211   \n",
       "4     California  39250017.0               0.136     1255.0             0.314   \n",
       "\n",
       "Fact  population_poverty_pct  total_employment  \n",
       "0                      0.171         1634391.0  \n",
       "1                      0.099          267999.0  \n",
       "2                      0.164         2295186.0  \n",
       "3                      0.172         1003113.0  \n",
       "4                      0.143        14325377.0  "
      ]
     },
     "execution_count": 30,
     "metadata": {},
     "output_type": "execute_result"
    }
   ],
   "source": [
    "census_data_clean.reset_index(inplace=True)\n",
    "census_data_clean.rename(columns={\"index\": \"state\",\n",
    "                                  \"Population estimates, July 1, 2016,  (V2016)\":\"population\",\n",
    "                                  \"Persons 65 years and over, percent,  July 1, 2016,  (V2016)\": \"old_population_pct\", \n",
    "                                  \"Median gross rent, 2011-2015\": \"mean_rent\",\n",
    "                                  \"Persons in poverty, percent\": \"population_poverty_pct\",\n",
    "                                  \"Bachelor's degree or higher, percent of persons age 25 years+, 2011-2015\": \"high_studies_pct\",\n",
    "                                  \"Total employment, 2015\":\"total_employment\"}, inplace=True)\n",
    "census_data_clean.head()"
   ]
  },
  {
   "cell_type": "markdown",
   "metadata": {},
   "source": [
    "<a id='eda'></a>\n",
    "## Exploratory Data Analysis\n",
    "\n",
    "### What is the gun estimation sales trend?"
   ]
  },
  {
   "cell_type": "markdown",
   "metadata": {
    "collapsed": true
   },
   "source": [
    "To answer this question we need to compute the estimation of gun sales. To do this, we will follow the suggested sales ratio considered in source of the data:\n",
    "* 1 gun sale can be estimated per 1,1 handgun, longgun or other gun transaction.\n",
    "* 2 guns sale can be estimated per 1 multiple gun transaction.\n",
    "\n",
    "The sum of all collumns except *multiple* would count the total single-gun background checks and therefore will be considered to calculate the overall gun sales. Adding to this, we will sum the *multiple* column value times 2 as estimation of gun sales."
   ]
  },
  {
   "cell_type": "code",
   "execution_count": 31,
   "metadata": {},
   "outputs": [],
   "source": [
    "gun_data[\"sales_estimation\"] = gun_data_clean.iloc[:, np.r_[2:6, 8:gun_data_clean.shape[1]]].sum(axis=1)*1.1 + gun_data_clean.loc[:,\"multiple\"]*2"
   ]
  },
  {
   "cell_type": "code",
   "execution_count": 32,
   "metadata": {
    "scrolled": true
   },
   "outputs": [
    {
     "data": {
      "image/png": "[encoded data removed]",
      "text/plain": [
       "<Figure size 432x432 with 1 Axes>"
      ]
     },
     "metadata": {
      "needs_background": "light"
     },
     "output_type": "display_data"
    }
   ],
   "source": [
    "series = (gun_data_clean.groupby([gun_data_clean.month.dt.year,gun_data_clean.month.dt.month]).sum()/1000000);\n",
    "series.plot(y=\"sales_estimation\", kind=\"line\", legend=False, figsize=(6,6));\n",
    "plt.title(\"Overall Sales Trend in UUEE\");\n",
    "plt.ylabel(\"Millions of Gun Sales\");\n",
    "plt.xlabel(\"Time\");"
   ]
  },
  {
   "cell_type": "markdown",
   "metadata": {},
   "source": [
    "As we may notice a steep slope that indicates that more guns are beign selled over the years."
   ]
  },
  {
   "cell_type": "markdown",
   "metadata": {},
   "source": [
    "### Which states has the highest guns sales growth rate?\n",
    "To find these states we will calculate the yearly variation percentage on sales estimation. We will avoid zero values so that they cause INF variations and we will try to avoid inliers such as variations above 4 that points to a singularity in the data that does not represent real trends."
   ]
  },
  {
   "cell_type": "code",
   "execution_count": 33,
   "metadata": {
    "scrolled": true
   },
   "outputs": [
    {
     "data": {
      "image/png": "[encoded data removed]",
      "text/plain": [
       "<Figure size 576x576 with 1 Axes>"
      ]
     },
     "metadata": {
      "needs_background": "light"
     },
     "output_type": "display_data"
    }
   ],
   "source": [
    "states = gun_data_clean.state.unique()\n",
    "states_growth = pd.DataFrame(index=states)\n",
    "for state in states:\n",
    "    series = gun_data_clean[gun_data_clean.state == state].groupby([gun_data_clean.month.dt.year]).sum()\n",
    "    growth = series[series.sales_estimation > 0][\"sales_estimation\"].pct_change()\n",
    "    growth_mean = growth[growth < 4].mean()\n",
    "    states_growth.loc[state,\"growth\"] = growth_mean\n",
    "states_growth.sort_values(by=\"growth\", ascending=False).head(20).plot(kind=\"bar\",figsize=(8,8),grid=True, legend=False);\n",
    "plt.title(\"Mean Yearly Gun Sales Growth Rate by State\");\n",
    "plt.ylabel(\"Yearly Gun Sales Growth Ratio\");\n",
    "plt.xlabel(\"State\");"
   ]
  },
  {
   "cell_type": "markdown",
   "metadata": {},
   "source": [
    "### Which states has bought guns the most?\n"
   ]
  },
  {
   "cell_type": "code",
   "execution_count": 34,
   "metadata": {},
   "outputs": [
    {
     "data": {
      "image/png": "[encoded data removed]",
      "text/plain": [
       "<Figure size 432x288 with 1 Axes>"
      ]
     },
     "metadata": {
      "needs_background": "light"
     },
     "output_type": "display_data"
    }
   ],
   "source": [
    "(gun_data_clean[gun_data_clean.month.dt.year >= 2012].groupby([\"state\"]).sum()[\"sales_estimation\"].sort_values(ascending=False)/1000000).head(20).plot(kind=\"bar\");\n",
    "plt.title(\"Estimated Gun Sales by State - Last five years (2012-2017)\");\n",
    "plt.ylabel(\"Estimated Total Gun Sales (Million of Guns)\");\n",
    "plt.xlabel(\"State\");"
   ]
  },
  {
   "cell_type": "markdown",
   "metadata": {},
   "source": [
    "### Is census data related to more gun purchases?"
   ]
  },
  {
   "cell_type": "markdown",
   "metadata": {
    "collapsed": true
   },
   "source": [
    "As mentioned before, we will check if rental per capita, level of studies or population is related to a high level of gun purchases in the recent years.\n"
   ]
  },
  {
   "cell_type": "markdown",
   "metadata": {},
   "source": [
    "* <b>Merge into a single dataframe</b>\n",
    "\n",
    "First we will merge both datasets into a single one to operate easily. We will join mean gun sales from the past 5 years per state to the census dataset."
   ]
  },
  {
   "cell_type": "code",
   "execution_count": 35,
   "metadata": {
    "scrolled": true
   },
   "outputs": [
    {
     "data": {
      "text/plain": [
       "state\n",
       "Alabama       1.213659e+06\n",
       "Alaska        1.815328e+05\n",
       "Arizona       7.448928e+05\n",
       "Arkansas      5.315340e+05\n",
       "California    3.340357e+06\n",
       "Name: sales_estimation, dtype: float64"
      ]
     },
     "execution_count": 35,
     "metadata": {},
     "output_type": "execute_result"
    }
   ],
   "source": [
    "yearly_gun_sales = gun_data_clean[gun_data_clean.month.dt.year >= 2012].groupby([\"state\", gun_data_clean.month.dt.year]).sum()\n",
    "mean_gun_sales = yearly_gun_sales.groupby([\"state\"]).mean()[\"sales_estimation\"] \n",
    "mean_gun_sales.head()"
   ]
  },
  {
   "cell_type": "code",
   "execution_count": 36,
   "metadata": {
    "scrolled": false
   },
   "outputs": [
    {
     "data": {
      "text/html": [
       "<div>\n",
       "<style scoped>\n",
       "    .dataframe tbody tr th:only-of-type {\n",
       "        vertical-align: middle;\n",
       "    }\n",
       "\n",
       "    .dataframe tbody tr th {\n",
       "        vertical-align: top;\n",
       "    }\n",
       "\n",
       "    .dataframe thead th {\n",
       "        text-align: right;\n",
       "    }\n",
       "</style>\n",
       "<table border=\"1\" class=\"dataframe\">\n",
       "  <thead>\n",
       "    <tr style=\"text-align: right;\">\n",
       "      <th></th>\n",
       "      <th>state</th>\n",
       "      <th>population</th>\n",
       "      <th>old_population_pct</th>\n",
       "      <th>mean_rent</th>\n",
       "      <th>high_studies_pct</th>\n",
       "      <th>population_poverty_pct</th>\n",
       "      <th>total_employment</th>\n",
       "      <th>sales_estimation</th>\n",
       "    </tr>\n",
       "  </thead>\n",
       "  <tbody>\n",
       "    <tr>\n",
       "      <th>0</th>\n",
       "      <td>Alabama</td>\n",
       "      <td>4863300.0</td>\n",
       "      <td>0.161</td>\n",
       "      <td>717.0</td>\n",
       "      <td>0.235</td>\n",
       "      <td>0.171</td>\n",
       "      <td>1634391.0</td>\n",
       "      <td>1.213659e+06</td>\n",
       "    </tr>\n",
       "    <tr>\n",
       "      <th>1</th>\n",
       "      <td>Alaska</td>\n",
       "      <td>741894.0</td>\n",
       "      <td>0.104</td>\n",
       "      <td>1146.0</td>\n",
       "      <td>0.280</td>\n",
       "      <td>0.099</td>\n",
       "      <td>267999.0</td>\n",
       "      <td>1.815328e+05</td>\n",
       "    </tr>\n",
       "    <tr>\n",
       "      <th>2</th>\n",
       "      <td>Arizona</td>\n",
       "      <td>6931071.0</td>\n",
       "      <td>0.169</td>\n",
       "      <td>913.0</td>\n",
       "      <td>0.275</td>\n",
       "      <td>0.164</td>\n",
       "      <td>2295186.0</td>\n",
       "      <td>7.448928e+05</td>\n",
       "    </tr>\n",
       "    <tr>\n",
       "      <th>3</th>\n",
       "      <td>Arkansas</td>\n",
       "      <td>2988248.0</td>\n",
       "      <td>0.163</td>\n",
       "      <td>677.0</td>\n",
       "      <td>0.211</td>\n",
       "      <td>0.172</td>\n",
       "      <td>1003113.0</td>\n",
       "      <td>5.315340e+05</td>\n",
       "    </tr>\n",
       "    <tr>\n",
       "      <th>4</th>\n",
       "      <td>California</td>\n",
       "      <td>39250017.0</td>\n",
       "      <td>0.136</td>\n",
       "      <td>1255.0</td>\n",
       "      <td>0.314</td>\n",
       "      <td>0.143</td>\n",
       "      <td>14325377.0</td>\n",
       "      <td>3.340357e+06</td>\n",
       "    </tr>\n",
       "  </tbody>\n",
       "</table>\n",
       "</div>"
      ],
      "text/plain": [
       "        state  population  old_population_pct  mean_rent  high_studies_pct  \\\n",
       "0     Alabama   4863300.0               0.161      717.0             0.235   \n",
       "1      Alaska    741894.0               0.104     1146.0             0.280   \n",
       "2     Arizona   6931071.0               0.169      913.0             0.275   \n",
       "3    Arkansas   2988248.0               0.163      677.0             0.211   \n",
       "4  California  39250017.0               0.136     1255.0             0.314   \n",
       "\n",
       "   population_poverty_pct  total_employment  sales_estimation  \n",
       "0                   0.171         1634391.0      1.213659e+06  \n",
       "1                   0.099          267999.0      1.815328e+05  \n",
       "2                   0.164         2295186.0      7.448928e+05  \n",
       "3                   0.172         1003113.0      5.315340e+05  \n",
       "4                   0.143        14325377.0      3.340357e+06  "
      ]
     },
     "execution_count": 36,
     "metadata": {},
     "output_type": "execute_result"
    }
   ],
   "source": [
    "expanded_census_data_clean = census_data_clean.merge(mean_gun_sales, how=\"inner\", left_on=\"state\", right_on=\"state\")\n",
    "expanded_census_data_clean.head()"
   ]
  },
  {
   "cell_type": "markdown",
   "metadata": {},
   "source": [
    "* <b>Get employment relative to population</b>"
   ]
  },
  {
   "cell_type": "code",
   "execution_count": 37,
   "metadata": {},
   "outputs": [],
   "source": [
    "expanded_census_data_clean[\"total_employment_pct\"] = expanded_census_data_clean[\"total_employment\"]/expanded_census_data_clean[\"population\"]\n"
   ]
  },
  {
   "cell_type": "code",
   "execution_count": 38,
   "metadata": {
    "scrolled": false
   },
   "outputs": [
    {
     "data": {
      "text/html": [
       "<div>\n",
       "<style scoped>\n",
       "    .dataframe tbody tr th:only-of-type {\n",
       "        vertical-align: middle;\n",
       "    }\n",
       "\n",
       "    .dataframe tbody tr th {\n",
       "        vertical-align: top;\n",
       "    }\n",
       "\n",
       "    .dataframe thead th {\n",
       "        text-align: right;\n",
       "    }\n",
       "</style>\n",
       "<table border=\"1\" class=\"dataframe\">\n",
       "  <thead>\n",
       "    <tr style=\"text-align: right;\">\n",
       "      <th></th>\n",
       "      <th>population</th>\n",
       "      <th>old_population_pct</th>\n",
       "      <th>mean_rent</th>\n",
       "      <th>high_studies_pct</th>\n",
       "      <th>population_poverty_pct</th>\n",
       "      <th>total_employment</th>\n",
       "      <th>sales_estimation</th>\n",
       "      <th>total_employment_pct</th>\n",
       "    </tr>\n",
       "  </thead>\n",
       "  <tbody>\n",
       "    <tr>\n",
       "      <th>count</th>\n",
       "      <td>5.000000e+01</td>\n",
       "      <td>50.000000</td>\n",
       "      <td>50.000000</td>\n",
       "      <td>50.00000</td>\n",
       "      <td>50.000000</td>\n",
       "      <td>5.000000e+01</td>\n",
       "      <td>5.000000e+01</td>\n",
       "      <td>50.000000</td>\n",
       "    </tr>\n",
       "    <tr>\n",
       "      <th>mean</th>\n",
       "      <td>6.448927e+06</td>\n",
       "      <td>0.156160</td>\n",
       "      <td>879.880000</td>\n",
       "      <td>0.29012</td>\n",
       "      <td>0.135180</td>\n",
       "      <td>2.471459e+06</td>\n",
       "      <td>9.479161e+05</td>\n",
       "      <td>0.384864</td>\n",
       "    </tr>\n",
       "    <tr>\n",
       "      <th>std</th>\n",
       "      <td>7.271769e+06</td>\n",
       "      <td>0.018321</td>\n",
       "      <td>181.106761</td>\n",
       "      <td>0.04934</td>\n",
       "      <td>0.030198</td>\n",
       "      <td>2.733595e+06</td>\n",
       "      <td>1.104013e+06</td>\n",
       "      <td>0.041669</td>\n",
       "    </tr>\n",
       "    <tr>\n",
       "      <th>min</th>\n",
       "      <td>5.855010e+05</td>\n",
       "      <td>0.104000</td>\n",
       "      <td>643.000000</td>\n",
       "      <td>0.19200</td>\n",
       "      <td>0.073000</td>\n",
       "      <td>2.198810e+05</td>\n",
       "      <td>3.346083e+04</td>\n",
       "      <td>0.300951</td>\n",
       "    </tr>\n",
       "    <tr>\n",
       "      <th>25%</th>\n",
       "      <td>1.850106e+06</td>\n",
       "      <td>0.149250</td>\n",
       "      <td>743.500000</td>\n",
       "      <td>0.25950</td>\n",
       "      <td>0.113000</td>\n",
       "      <td>5.888890e+05</td>\n",
       "      <td>2.871536e+05</td>\n",
       "      <td>0.360118</td>\n",
       "    </tr>\n",
       "    <tr>\n",
       "      <th>50%</th>\n",
       "      <td>4.559320e+06</td>\n",
       "      <td>0.156500</td>\n",
       "      <td>818.500000</td>\n",
       "      <td>0.28200</td>\n",
       "      <td>0.133000</td>\n",
       "      <td>1.606934e+06</td>\n",
       "      <td>5.852924e+05</td>\n",
       "      <td>0.377150</td>\n",
       "    </tr>\n",
       "    <tr>\n",
       "      <th>75%</th>\n",
       "      <td>7.198768e+06</td>\n",
       "      <td>0.165000</td>\n",
       "      <td>1001.500000</td>\n",
       "      <td>0.31775</td>\n",
       "      <td>0.153750</td>\n",
       "      <td>3.040622e+06</td>\n",
       "      <td>1.159521e+06</td>\n",
       "      <td>0.409081</td>\n",
       "    </tr>\n",
       "    <tr>\n",
       "      <th>max</th>\n",
       "      <td>3.925002e+07</td>\n",
       "      <td>0.199000</td>\n",
       "      <td>1438.000000</td>\n",
       "      <td>0.40500</td>\n",
       "      <td>0.208000</td>\n",
       "      <td>1.432538e+07</td>\n",
       "      <td>6.226555e+06</td>\n",
       "      <td>0.482739</td>\n",
       "    </tr>\n",
       "  </tbody>\n",
       "</table>\n",
       "</div>"
      ],
      "text/plain": [
       "         population  old_population_pct    mean_rent  high_studies_pct  \\\n",
       "count  5.000000e+01           50.000000    50.000000          50.00000   \n",
       "mean   6.448927e+06            0.156160   879.880000           0.29012   \n",
       "std    7.271769e+06            0.018321   181.106761           0.04934   \n",
       "min    5.855010e+05            0.104000   643.000000           0.19200   \n",
       "25%    1.850106e+06            0.149250   743.500000           0.25950   \n",
       "50%    4.559320e+06            0.156500   818.500000           0.28200   \n",
       "75%    7.198768e+06            0.165000  1001.500000           0.31775   \n",
       "max    3.925002e+07            0.199000  1438.000000           0.40500   \n",
       "\n",
       "       population_poverty_pct  total_employment  sales_estimation  \\\n",
       "count               50.000000      5.000000e+01      5.000000e+01   \n",
       "mean                 0.135180      2.471459e+06      9.479161e+05   \n",
       "std                  0.030198      2.733595e+06      1.104013e+06   \n",
       "min                  0.073000      2.198810e+05      3.346083e+04   \n",
       "25%                  0.113000      5.888890e+05      2.871536e+05   \n",
       "50%                  0.133000      1.606934e+06      5.852924e+05   \n",
       "75%                  0.153750      3.040622e+06      1.159521e+06   \n",
       "max                  0.208000      1.432538e+07      6.226555e+06   \n",
       "\n",
       "       total_employment_pct  \n",
       "count             50.000000  \n",
       "mean               0.384864  \n",
       "std                0.041669  \n",
       "min                0.300951  \n",
       "25%                0.360118  \n",
       "50%                0.377150  \n",
       "75%                0.409081  \n",
       "max                0.482739  "
      ]
     },
     "execution_count": 38,
     "metadata": {},
     "output_type": "execute_result"
    }
   ],
   "source": [
    "expanded_census_data_clean.describe()"
   ]
  },
  {
   "cell_type": "markdown",
   "metadata": {},
   "source": [
    "#### By Poverty Ratio"
   ]
  },
  {
   "cell_type": "markdown",
   "metadata": {},
   "source": [
    "We will bin Poverty Ratio into four groups according to the percentiles obtained so we may identify a possible correlation between gun sales."
   ]
  },
  {
   "cell_type": "code",
   "execution_count": 39,
   "metadata": {
    "scrolled": false
   },
   "outputs": [
    {
     "data": {
      "image/png": "[encoded data removed]",
      "text/plain": [
       "<Figure size 432x288 with 1 Axes>"
      ]
     },
     "metadata": {
      "needs_background": "light"
     },
     "output_type": "display_data"
    }
   ],
   "source": [
    "bin_edges = [ 0.073000, 0.113000, 0.133000, 0.153750, 0.208000]\n",
    "bin_names = [ \"Low Poverty Ratio\", \"Low-Mid Poverty Ratio\", \"Mid-High Poverty Ratio\", \"High Poverty Ratio\"]\n",
    "expanded_census_data_clean['poverty_level'] = pd.cut(expanded_census_data_clean['population_poverty_pct'], bin_edges, labels=bin_names)\n",
    "(expanded_census_data_clean.groupby([\"poverty_level\"]).sum()[\"sales_estimation\"]/1000000).plot(kind=\"bar\");\n",
    "plt.title(\"Gun Sales by Poverty Ratio\");\n",
    "plt.ylabel(\"Year Estimated Gun Sales (Millions of Guns)\");\n",
    "plt.xlabel(\"Poverty Level\");"
   ]
  },
  {
   "cell_type": "markdown",
   "metadata": {},
   "source": [
    "The results on the figure indicates a possitive correlation between poverty and gun sales. It may indicates that those states where poverty indices are high people may feel more insecure. However, these findings are an overall computed data and a localized studie may discard any possible bias."
   ]
  },
  {
   "cell_type": "code",
   "execution_count": 75,
   "metadata": {
    "scrolled": false
   },
   "outputs": [
    {
     "data": {
      "image/png": "[encoded data removed]",
      "text/plain": [
       "<Figure size 432x288 with 1 Axes>"
      ]
     },
     "metadata": {
      "needs_background": "light"
     },
     "output_type": "display_data"
    }
   ],
   "source": [
    "expanded_census_data_clean[\"population_poverty_pct\"].hist();\n",
    "plt.title(\"Number of States by Poverty Ratio\");\n",
    "plt.ylabel(\"Number of States\");\n",
    "plt.xlabel(\"Poverty Ratio\");"
   ]
  },
  {
   "cell_type": "markdown",
   "metadata": {},
   "source": [
    "However, in the presented histogram we may see a normalized distribution that may indicate that poverty ratios above 0.16 are not so representative (those related to high poverty ratio)."
   ]
  },
  {
   "cell_type": "markdown",
   "metadata": {},
   "source": [
    "#### By Aged Population"
   ]
  },
  {
   "cell_type": "markdown",
   "metadata": {},
   "source": [
    "We will bin Aged Population into four groups according to the percentiles obtained so we may identify a possible correlation between gun sales."
   ]
  },
  {
   "cell_type": "code",
   "execution_count": 40,
   "metadata": {
    "scrolled": false
   },
   "outputs": [
    {
     "data": {
      "image/png": "[encoded data removed]",
      "text/plain": [
       "<Figure size 432x288 with 1 Axes>"
      ]
     },
     "metadata": {
      "needs_background": "light"
     },
     "output_type": "display_data"
    }
   ],
   "source": [
    "bin_edges = [ 0.104000, 0.149250, 0.1565000, 0.165000, 0.199000]\n",
    "bin_names = [ \"Low Aged Population\", \"Low-Mid Aged Population\", \"Mid-High Aged Population\", \"High Aged Population\"]\n",
    "expanded_census_data_clean['aged_population_level'] = pd.cut(expanded_census_data_clean['old_population_pct'], bin_edges, labels=bin_names)\n",
    "(expanded_census_data_clean.groupby([\"aged_population_level\"]).sum()[\"sales_estimation\"]/1000000).plot(kind=\"bar\");\n",
    "plt.title(\"Gun Sales by Aged Population Level\");\n",
    "plt.ylabel(\"Year Estimated Gun Sales (Millions of Guns)\");\n",
    "plt.xlabel(\"Aged Population Level\");"
   ]
  },
  {
   "cell_type": "markdown",
   "metadata": {},
   "source": [
    "The results on the figure indicates a negative correlation between aged population and gun sales. It may indicates that those states where population is younger are buying more guns. This may lead us thinking about future trends on gun sales.\n",
    "\n",
    "However, it also may indicate that states with younger population exists more amount of households and are the parents who is buying guns for family protection instead of the young people.\n",
    "\n",
    "In addition, looking at the box plot below we noticed the presence of outliers that due to major differences between states and thus a overall or mean analysis may not be ideal."
   ]
  },
  {
   "cell_type": "code",
   "execution_count": 70,
   "metadata": {},
   "outputs": [
    {
     "data": {
      "image/png": "[encoded data removed]",
      "text/plain": [
       "<Figure size 432x288 with 1 Axes>"
      ]
     },
     "metadata": {
      "needs_background": "light"
     },
     "output_type": "display_data"
    }
   ],
   "source": [
    "expanded_census_data_clean['old_population_pct'].plot.box();\n",
    "plt.title(\"Old Population Data Distribution\");\n",
    "plt.ylabel(\"Pct of People above 65 years old\");\n",
    "plt.xlabel(\"Aged Population Pct\");"
   ]
  },
  {
   "cell_type": "markdown",
   "metadata": {},
   "source": [
    "#### By Employment Ratio"
   ]
  },
  {
   "cell_type": "markdown",
   "metadata": {},
   "source": [
    "We will bin Employment Ratio into four groups according to the percentiles obtained so we may identify a possible correlation between gun sales."
   ]
  },
  {
   "cell_type": "code",
   "execution_count": 41,
   "metadata": {
    "scrolled": true
   },
   "outputs": [
    {
     "data": {
      "image/png": "[encoded data removed]",
      "text/plain": [
       "<Figure size 432x288 with 1 Axes>"
      ]
     },
     "metadata": {
      "needs_background": "light"
     },
     "output_type": "display_data"
    }
   ],
   "source": [
    "bin_edges = [ 0.300951, 0.360118, 0.377150, 0.409081, 0.482739]\n",
    "bin_names = [ \"Low Employment (30%)\", \"Low-Mid Employment (36%)\", \"Mid-High Employment (40%)\", \"High Employment (48%)\"]\n",
    "expanded_census_data_clean['employment_levels'] = pd.cut(expanded_census_data_clean['total_employment_pct'], bin_edges, labels=bin_names)\n",
    "(expanded_census_data_clean.groupby([\"employment_levels\"]).sum()[\"sales_estimation\"]/1000000).plot(kind=\"bar\");\n",
    "plt.title(\"Gun Sales by Employment Ratio\");\n",
    "plt.ylabel(\"Year Estimated Gun Sales (Millions of Guns)\");\n",
    "plt.xlabel(\"Employment Ratio\");"
   ]
  },
  {
   "cell_type": "markdown",
   "metadata": {},
   "source": [
    "The results on the figure indicates a possitive correlation between unemployment and gun sales. It may indicates that those states where unemployment indices are high people buy more guns. One reason for this is that locations with low employment ratio still have a black economy mostly associated with robs, drugs, etc.. These activities may lead into a sense of insecurity that could justify an increase on gun sales where unemployment is high."
   ]
  },
  {
   "cell_type": "code",
   "execution_count": 58,
   "metadata": {
    "scrolled": true
   },
   "outputs": [
    {
     "data": {
      "image/png": "[encoded data removed]",
      "text/plain": [
       "<Figure size 432x288 with 1 Axes>"
      ]
     },
     "metadata": {
      "needs_background": "light"
     },
     "output_type": "display_data"
    }
   ],
   "source": [
    "expanded_census_data_clean[\"total_employment_pct\"].hist();\n",
    "plt.title(\"Number of States by Employment Ratio\");\n",
    "plt.ylabel(\"Number of States\");\n",
    "plt.xlabel(\"Employment Ratio\");"
   ]
  },
  {
   "cell_type": "markdown",
   "metadata": {},
   "source": [
    "However, by inspecting employment ratio distribution we find a distribution similar to a normal distribution that may indicates that min and max values of employment ratios used in previews chart are not so relevant and such conclusions should be taken with caution so many other reasons may explain those results."
   ]
  },
  {
   "cell_type": "markdown",
   "metadata": {},
   "source": [
    "#### By Rent Level"
   ]
  },
  {
   "cell_type": "markdown",
   "metadata": {},
   "source": [
    "We will bin Mean Rent into four groups according to the percentiles obtained so we may identify a possible correlation between gun sales."
   ]
  },
  {
   "cell_type": "code",
   "execution_count": 44,
   "metadata": {
    "scrolled": true
   },
   "outputs": [
    {
     "data": {
      "image/png": "[encoded data removed]",
      "text/plain": [
       "<Figure size 432x288 with 1 Axes>"
      ]
     },
     "metadata": {
      "needs_background": "light"
     },
     "output_type": "display_data"
    }
   ],
   "source": [
    "bin_edges = [ 643, 743.5, 818.5, 1001.5, 1438]\n",
    "bin_names = [ \"Low Rent\", \"Low-Mid Rent\", \"Mid-High Rent\", \"High Rent\"]\n",
    "expanded_census_data_clean['rent_levels'] = pd.cut(expanded_census_data_clean['mean_rent'], bin_edges, labels=bin_names)\n",
    "(expanded_census_data_clean.groupby([\"rent_levels\"]).sum()[\"sales_estimation\"]/1000000).plot(kind=\"bar\");\n",
    "plt.title(\"Gun Sales by Rent Level\");\n",
    "plt.ylabel(\"Yearly Estimatation of Gun Sales (Millions of Guns)\");\n",
    "plt.xlabel(\"Rent Level\");"
   ]
  },
  {
   "cell_type": "markdown",
   "metadata": {},
   "source": [
    "The results on the figure shows an inconsistent correlation between rent level and gun sales. However, looking at the data distribution we find that the data is skewed to the right and has an outlier at the maximum mean reant. This may indicates that despite of being less states with higher rents (and potentially less people) still presents a consistent volume of gun sales that may result in a much high amount of gun sales per capita in those states."
   ]
  },
  {
   "cell_type": "code",
   "execution_count": 74,
   "metadata": {},
   "outputs": [
    {
     "data": {
      "image/png": "[encoded data removed]",
      "text/plain": [
       "<Figure size 432x288 with 1 Axes>"
      ]
     },
     "metadata": {
      "needs_background": "light"
     },
     "output_type": "display_data"
    }
   ],
   "source": [
    "expanded_census_data_clean[\"mean_rent\"].hist();\n",
    "plt.title(\"Number of States by Poverty Ratio\");\n",
    "plt.ylabel(\"Number of States\");\n",
    "plt.xlabel(\"Poverty Ratio\");"
   ]
  },
  {
   "cell_type": "code",
   "execution_count": 72,
   "metadata": {
    "scrolled": true
   },
   "outputs": [
    {
     "data": {
      "image/png": "[encoded data removed]",
      "text/plain": [
       "<Figure size 432x288 with 1 Axes>"
      ]
     },
     "metadata": {
      "needs_background": "light"
     },
     "output_type": "display_data"
    }
   ],
   "source": [
    "expanded_census_data_clean['mean_rent'].plot.box();\n",
    "plt.title(\"Mean Rent Data Distribution\");\n",
    "plt.ylabel(\"$\");\n",
    "plt.xlabel(\"Mean Rent\");"
   ]
  },
  {
   "cell_type": "markdown",
   "metadata": {},
   "source": [
    "Box plot identifying an outlier at the high mean rents"
   ]
  },
  {
   "cell_type": "markdown",
   "metadata": {},
   "source": [
    "####  By Level of Studies"
   ]
  },
  {
   "cell_type": "markdown",
   "metadata": {},
   "source": [
    "We will bin level of studies into four groups according to the percentiles obtained so we may identify a possible correlation between gun sales."
   ]
  },
  {
   "cell_type": "code",
   "execution_count": 45,
   "metadata": {
    "scrolled": true
   },
   "outputs": [
    {
     "data": {
      "image/png": "[encoded data removed]",
      "text/plain": [
       "<Figure size 432x288 with 1 Axes>"
      ]
     },
     "metadata": {
      "needs_background": "light"
     },
     "output_type": "display_data"
    }
   ],
   "source": [
    "bin_edges = [ 0.19200, 0.25950, 0.28200, 0.31775, 0.40500]\n",
    "bin_names = [ \"Low Studies\", \"Low-Mid Studies\", \"Mid-High Studies\", \"High Studies\"]\n",
    "expanded_census_data_clean['study_levels'] = pd.cut(expanded_census_data_clean['high_studies_pct'], bin_edges, labels=bin_names)\n",
    "(expanded_census_data_clean.groupby([\"study_levels\"]).sum()[\"sales_estimation\"]/1000000).plot(kind=\"bar\");\n",
    "plt.title(\"Gun Sales by Level of Studies\");\n",
    "plt.ylabel(\"Yearly Estimatation of Gun Sales (Millions of Guns)\");\n",
    "plt.xlabel(\"Level of Studies\");"
   ]
  },
  {
   "cell_type": "markdown",
   "metadata": {},
   "source": [
    "The results on the figure indicates a negative correlation between level of studies and gun sales. It may indicates that those states where people has higher studies are buying less guns.\n",
    "\n",
    "Analyzing the data distribution in the graphs below shows a well distributed data without outliers."
   ]
  },
  {
   "cell_type": "code",
   "execution_count": 80,
   "metadata": {},
   "outputs": [
    {
     "data": {
      "image/png": "[encoded data removed]",
      "text/plain": [
       "<Figure size 432x288 with 1 Axes>"
      ]
     },
     "metadata": {
      "needs_background": "light"
     },
     "output_type": "display_data"
    }
   ],
   "source": [
    "expanded_census_data_clean['high_studies_pct'].hist();\n",
    "plt.title(\"Number of States by High Studies Ratio\");\n",
    "plt.ylabel(\"Number of States\");\n",
    "plt.xlabel(\"High Studies Population Ratio\");"
   ]
  },
  {
   "cell_type": "code",
   "execution_count": 81,
   "metadata": {},
   "outputs": [
    {
     "data": {
      "image/png": "[encoded data removed]",
      "text/plain": [
       "<Figure size 432x288 with 1 Axes>"
      ]
     },
     "metadata": {
      "needs_background": "light"
     },
     "output_type": "display_data"
    }
   ],
   "source": [
    "expanded_census_data_clean['high_studies_pct'].plot.box();\n",
    "plt.title(\"High Studies Population Ratio distribution\");\n",
    "plt.ylabel(\"Population Ratio\");\n",
    "plt.xlabel(\"High Studies Population Ratio\");"
   ]
  },
  {
   "cell_type": "markdown",
   "metadata": {},
   "source": [
    "<a id='conclusions'></a>\n",
    "## Conclusions"
   ]
  },
  {
   "cell_type": "markdown",
   "metadata": {},
   "source": [
    "As we pointed out in the data observations, a clear positive trend exits in the increase of gun sells over the years and seems to continue growing. As we discovered that <b>Kentucky is the state that presents the biggest growth</b> in history on gun purchases.\n",
    "\n",
    "A part from that, we found out some correlations to census data such as:\n",
    "* Guns purchases may be positive correlated to poverty level of states.\n",
    "* However, as the population is more aged the gun sells goes down.\n",
    "* Also, unemployment ratio seems to be positive correlated to gun sales.\n",
    "* Level of studies may outline that as more educational level a state has the less gun sales is to be expected.\n",
    "* However, the mean rent per capita does not show a strong correlation to gun sales.\n",
    "\n",
    "#### Data Considerations\n",
    "As mentioned in the data visualizations we noticed some outliers on dataset that may represent limitations on the conclusions due to major differences between States. Thus, mean data representations may lead into wrong conclusions and a localized studied should be done for further support of the highligthed conclusions.\n",
    "\n",
    "In some cases data distribution indicates that the data should be normalized according to the data population in order to perform a equal comparison between results as not all states represent same order of magnitude of population.\n",
    "\n",
    "In addition, census data of 2016 has been used in this study and gun data used is from 2012 to 2017. Proper historical data should be used for better data analysis as it may lead into a different results and conclusions.\n",
    "\n",
    "\n",
    "#### Future Lines\n",
    "Many other census features may be considered to find more correlations but due to the extent of this work we invite the reader to explore them.\n",
    "\n",
    "A deeper research on census data may lead into a richer amount of data such as historical series that may be correlated to gun sales historic data. In the same way, other soure of data related to gun transactions may be used in orther to perform a better estimation on gun sales.\n"
   ]
  },
  {
   "cell_type": "code",
   "execution_count": null,
   "metadata": {},
   "outputs": [],
   "source": []
  }
 ],
 "metadata": {
  "kernelspec": {
   "display_name": "Python 3",
   "language": "python",
   "name": "python3"
  },
  "language_info": {
   "codemirror_mode": {
    "name": "ipython",
    "version": 3
   },
   "file_extension": ".py",
   "mimetype": "text/x-python",
   "name": "python",
   "nbconvert_exporter": "python",
   "pygments_lexer": "ipython3",
   "version": "3.7.6"
  }
 },
 "nbformat": 4,
 "nbformat_minor": 2
}
